{
 "cells": [
  {
   "cell_type": "markdown",
   "metadata": {},
   "source": [
    "# Module Two Discussion: The Central Limit Theorem\n",
    "\n",
    "This notebook contains the step-by-step directions for your Module Two discussion. It is very important to run through the steps in order. Some steps depend on the outputs of earlier steps. Once you have completed the steps in this notebook, be sure to answer the questions about this activity in the Discussion for this module.\n",
    "\n",
    "Reminder: If you have not already reviewed the discussion prompt, please do so before beginning this activity. That will give you an idea of the questions you will need to answer with the outputs of this script."
   ]
  },
  {
   "cell_type": "markdown",
   "metadata": {},
   "source": []
  },
  {
   "cell_type": "markdown",
   "metadata": {},
   "source": [
    "\n",
    "## Initial post (due Thursday)\n",
    "_____________________________________________________________________________________________________________________________________________________"
   ]
  },
  {
   "cell_type": "markdown",
   "metadata": {},
   "source": [
    "### Step 1: Generating population data\n",
    "This block of Python code will generate unique TPCP population data of size 500 observations. You will use this data set in this week's discussion. The numpy module in Python can be used to create datasets with a skewed distribution by randomly generating data from a gamma distribution. You do not need to know what a gamma distribution is or how a dataset is drawn from it. The dataset will be saved in a Python dataframe that you will use in later calculations. \n",
    "\n",
    "Click the block of code below and hit the **Run** button above."
   ]
  },
  {
   "cell_type": "code",
   "execution_count": 22,
   "metadata": {},
   "outputs": [
    {
     "name": "stdout",
     "output_type": "stream",
     "text": [
      "TPCP data frame\n",
      "\n",
      "      TPCP\n",
      "0    718.0\n",
      "1    313.0\n",
      "2    302.0\n",
      "3    148.0\n",
      "4    848.0\n",
      "..     ...\n",
      "495  608.0\n",
      "496  345.0\n",
      "497  140.0\n",
      "498   72.0\n",
      "499  623.0\n",
      "\n",
      "[500 rows x 1 columns]\n"
     ]
    }
   ],
   "source": [
    "import pandas as pd\n",
    "import matplotlib.pyplot as plt\n",
    "import numpy as np\n",
    "import scipy.stats as st\n",
    "\n",
    "# use gamma distribution to randomly generate 500 observations. \n",
    "shape, scale = 1.95, 2.5\n",
    "tpcp = 100*np.random.gamma(shape, scale, 500)\n",
    "\n",
    "# pandas library can be used to convert the array into a dataframe of rounded figures with the column name TPCP.\n",
    "tpcp_df = pd.DataFrame(tpcp, columns=['TPCP'])\n",
    "tpcp_df = tpcp_df.round(0)\n",
    "\n",
    "# print the dataframe to see the first 5 and last 5 observations (note that the index of dataframe starts at 0).\n",
    "print(\"TPCP data frame\\n\")\n",
    "print(tpcp_df)"
   ]
  },
  {
   "cell_type": "markdown",
   "metadata": {},
   "source": [
    " "
   ]
  },
  {
   "cell_type": "markdown",
   "metadata": {},
   "source": [
    "### Step 2: Creating a histogram plot of population data\n",
    "You will use the matplotlib module in Python to create a histogram plot of the population data from Step 1. This plot allows you to visualize the population data distribution and confirm that it is skewed. You will use 50 bins in the histogram to display the distribution. \n",
    "\n",
    "Click the block of code below and hit the **Run** button above.  \n",
    "NOTE: If the graph is not created, click the code section and hit the **Run** button again."
   ]
  },
  {
   "cell_type": "code",
   "execution_count": 23,
   "metadata": {},
   "outputs": [
    {
     "data": {
      "image/png": "[encoded data removed]",
      "text/plain": [
       "<Figure size 640x480 with 1 Axes>"
      ]
     },
     "metadata": {},
     "output_type": "display_data"
    }
   ],
   "source": [
    "# create a figure for the plot. \n",
    "fig, ax = plt.subplots()\n",
    "\n",
    "# create a histogram plot with 50 bins of TPCP population data. \n",
    "plt.hist(tpcp_df['TPCP'], bins=50)\n",
    "\n",
    "# set a title for the plot, x-axis, and y-axis.\n",
    "plt.title('TPCP population distribution', fontsize=20)\n",
    "ax.set_xlabel('TPCP')\n",
    "ax.set_ylabel('Frequency')\n",
    "\n",
    "# show the plot.\n",
    "plt.show()"
   ]
  },
  {
   "cell_type": "markdown",
   "metadata": {},
   "source": [
    " "
   ]
  },
  {
   "cell_type": "markdown",
   "metadata": {},
   "source": [
    "### Step 3: Calculating the population mean\n",
    "This step will calculate the mean for the population data. \n",
    "\n",
    "Click the block of code below and hit the **Run** button above."
   ]
  },
  {
   "cell_type": "code",
   "execution_count": 24,
   "metadata": {},
   "outputs": [
    {
     "name": "stdout",
     "output_type": "stream",
     "text": [
      "Population mean = 485.3\n"
     ]
    }
   ],
   "source": [
    "# You can use the \"mean\" method of a pandas dataframe.\n",
    "pop_mean = tpcp_df['TPCP'].mean()\n",
    "print(\"Population mean =\", round(pop_mean,2))"
   ]
  },
  {
   "cell_type": "markdown",
   "metadata": {},
   "source": [
    " "
   ]
  },
  {
   "cell_type": "markdown",
   "metadata": {},
   "source": [
    "### Step 4: Drawing one random sample from the population data and calculating the sample mean\n",
    "This block of code randomly selects one sample (with replacement) of 50 data points from the population data. Then it calculates the sample mean. You will use the \"sample\" method of the dataframe to select the sample. \n",
    "\n",
    "Click the block of code below and hit the **Run** button above."
   ]
  },
  {
   "cell_type": "code",
   "execution_count": 25,
   "metadata": {},
   "outputs": [
    {
     "name": "stdout",
     "output_type": "stream",
     "text": [
      "Sample mean = 526.56\n"
     ]
    }
   ],
   "source": [
    "# use sample method of the dataframe to select a random sample, with replacement, of size 50.\n",
    "tpcp_sample_df = tpcp_df.sample(50, replace=True)\n",
    "\n",
    "# print the sample mean.\n",
    "sample_mean = tpcp_sample_df['TPCP'].mean()\n",
    "print(\"Sample mean =\", round(sample_mean,2))"
   ]
  },
  {
   "cell_type": "markdown",
   "metadata": {},
   "source": [
    " "
   ]
  },
  {
   "cell_type": "markdown",
   "metadata": {},
   "source": [
    "### Step 5: Repeatedly drawing samples and saving the sample mean for each sample\n",
    "You will now essentially repeat Step 4 one thousand times to select 1,000 random samples, with replacement, of size 50 from the population data. The code below contains a loop so that you can do this selection with just one click! You will save the sample mean for each sample in a Python dataframe. \n",
    "\n",
    "Click the block of code below and hit the **Run** button above."
   ]
  },
  {
   "cell_type": "code",
   "execution_count": 26,
   "metadata": {},
   "outputs": [
    {
     "name": "stdout",
     "output_type": "stream",
     "text": [
      "Dataframe of 1000 sample means\n",
      "\n",
      "         means\n",
      "0       512.52\n",
      "1       413.66\n",
      "2       412.30\n",
      "3       520.68\n",
      "4       483.68\n",
      "...        ...\n",
      "999995  488.06\n",
      "999996  567.66\n",
      "999997  529.12\n",
      "999998  516.80\n",
      "999999  466.06\n",
      "\n",
      "[1000000 rows x 1 columns]\n"
     ]
    }
   ],
   "source": [
    "# run a for loop to repeat the process Step 4 one thousand times to select one thousand samples.\n",
    "# save the mean of each sample that was drawn in a Python list called means_list.\n",
    "means_list = []\n",
    "for i in range(1000000):\n",
    "    tpcp_sample_df = tpcp_df.sample(50, replace=True)\n",
    "    sample_mean = tpcp_sample_df['TPCP'].mean()\n",
    "    means_list.append(sample_mean)\n",
    "    \n",
    "# create a Python dataframe of means.\n",
    "means_df = pd.DataFrame(means_list, columns=['means'])\n",
    "print(\"Dataframe of 1000 sample means\\n\")\n",
    "print(means_df)"
   ]
  },
  {
   "cell_type": "markdown",
   "metadata": {},
   "source": [
    " "
   ]
  },
  {
   "cell_type": "markdown",
   "metadata": {},
   "source": [
    "### Step 6: Creating a histogram plot of the sample means from Step 5\n",
    "Now you will plot the data distribution of the 1,000 means from Step 5. View the plot to confirm that it approximates a Normal distribution (bell-shaped curve). Note that the original data distribution in Step 2 was skewed. However, the distribution of sample means, calculated by repeatedly drawing large samples, is approximately Normally distributed. \n",
    "\n",
    "Click the block of code below and hit the **Run** button above.  \n",
    "NOTE: If the graph is not created, click the code section and hit the **Run** button again."
   ]
  },
  {
   "cell_type": "code",
   "execution_count": 30,
   "metadata": {
    "scrolled": true
   },
   "outputs": [
    {
     "data": {
      "image/png": "[encoded data removed]",
      "text/plain": [
       "<Figure size 640x480 with 1 Axes>"
      ]
     },
     "metadata": {},
     "output_type": "display_data"
    }
   ],
   "source": [
    "# create a figure for the plot. \n",
    "fig, ax = plt.subplots()\n",
    "\n",
    "# create a histogram plot with 50 bins of 1,000 means. \n",
    "plt.hist(means_df['means'], bins=1000)\n",
    "\n",
    "# set a title for the plot, x-axis and y-axis.\n",
    "plt.title('Distribution of 1,000,000 sample means', fontsize=20) # title\n",
    "ax.set_xlabel('Means')\n",
    "ax.set_ylabel('Frequency')\n",
    "\n",
    "# show the plot.\n",
    "plt.show()"
   ]
  },
  {
   "cell_type": "markdown",
   "metadata": {},
   "source": [
    " "
   ]
  },
  {
   "cell_type": "markdown",
   "metadata": {},
   "source": [
    "### Step 7: Mean and the standard deviation of the sample mean distribution\n",
    "Now you will calculate the \"grand\" mean (\"grand\" because it is the mean of the 1,000 means) and the standard deviation of 1,000 sample means. Note that the distribution of sample means was approximately Normal (bell-shaped) in Step 6. Therefore, calculating the mean and the standard deviation of this distribution will allow us to calculate probabilities and critical values. \n",
    "\n",
    "Click the block of code below and hit the **Run** button above. "
   ]
  },
  {
   "cell_type": "code",
   "execution_count": 28,
   "metadata": {},
   "outputs": [
    {
     "name": "stdout",
     "output_type": "stream",
     "text": [
      "Grand Mean (Mean of 1000 sample means) = 485.35\n",
      "Std Deviation of 1000 sample means = 51.07\n",
      "Probability that a specific mean is 450 or less = 0.2444\n"
     ]
    }
   ],
   "source": [
    "# calculate mean of the 1,000 sample means (this is called the grand mean or mean of the means).\n",
    "mean1000 = means_df['means'].mean()\n",
    "print(\"Grand Mean (Mean of 1000 sample means) =\",round(mean1000,2))\n",
    "\n",
    "# calculate standard deviation of the 1,000 sample means.\n",
    "std1000 = means_df['means'].std()\n",
    "print(\"Std Deviation of 1000 sample means =\",round(std1000,2))\n",
    "\n",
    "# print the probability that a specific mean is 450 or less for a Normal distribution with mean and standard deviation of 1,000 sample means.\n",
    "prob_450_less_or_equal = st.norm.cdf(450, mean1000, std1000)\n",
    "print(\"Probability that a specific mean is 450 or less =\", round(prob_450_less_or_equal,4))"
   ]
  },
  {
   "cell_type": "markdown",
   "metadata": {},
   "source": [
    " "
   ]
  },
  {
   "cell_type": "markdown",
   "metadata": {},
   "source": [
    "## End of initial post\n",
    "Attach the HTML output to your initial post in the Module Two discussion. The html output can be downloaded by clicking **File**, then **Download as**, then **HTML**. Be sure to answer all questions about this activity in the Module Two discussion."
   ]
  },
  {
   "cell_type": "markdown",
   "metadata": {},
   "source": [
    "## Follow-up posts (due Sunday)\n",
    "Return to the Module Two discussion to answer the follow-up questions in your response posts to other students. There are no Python scripts to run for your follow-up posts."
   ]
  }
 ],
 "metadata": {
  "kernelspec": {
   "display_name": "Python 3.11.0 64-bit",
   "language": "python",
   "name": "python3"
  },
  "language_info": {
   "codemirror_mode": {
    "name": "ipython",
    "version": 3
   },
   "file_extension": ".py",
   "mimetype": "text/x-python",
   "name": "python",
   "nbconvert_exporter": "python",
   "pygments_lexer": "ipython3",
   "version": "3.11.0"
  },
  "vscode": {
   "interpreter": {
    "hash": "c261aea317cc0286b3b3261fbba9abdec21eaa57589985bb7a274bf54d6cc0a7"
   }
  }
 },
 "nbformat": 4,
 "nbformat_minor": 2
}
