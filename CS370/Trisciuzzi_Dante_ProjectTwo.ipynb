{
 "cells": [
  {
   "attachments": {},
   "cell_type": "markdown",
   "metadata": {},
   "source": [
    "### Dante Trisciuzzi\n",
    "### 8.8.2023\n",
    "### CS-370 SNHU\n",
    "### Prof. Timothy Alexander"
   ]
  },
  {
   "attachments": {},
   "cell_type": "markdown",
   "metadata": {},
   "source": [
    "# Treasure Hunt Game Notebook\n",
    "\n",
    "## Read and Review Your Starter Code\n",
    "The theme of this project is a popular treasure hunt game in which the player needs to find the treasure before the pirate does. While you will not be developing the entire game, you will write the part of the game that represents the intelligent agent, which is a pirate in this case. The pirate will try to find the optimal path to the treasure using deep Q-learning. \n",
    "\n",
    "You have been provided with two Python classes and this notebook to help you with this assignment. The first class, TreasureMaze.py, represents the environment, which includes a maze object defined as a matrix. The second class, GameExperience.py, stores the episodes – that is, all the states that come in between the initial state and the terminal state. This is later used by the agent for learning by experience, called \"exploration\". This notebook shows how to play a game. Your task is to complete the deep Q-learning implementation for which a skeleton implementation has been provided. The code blocks you will need to complete has #TODO as a header.\n",
    "\n",
    "First, read and review the next few code and instruction blocks to understand the code that you have been given."
   ]
  },
  {
   "cell_type": "code",
   "execution_count": 1,
   "metadata": {},
   "outputs": [
    {
     "name": "stderr",
     "output_type": "stream",
     "text": [
      "Using TensorFlow backend.\n"
     ]
    }
   ],
   "source": [
    "from __future__ import print_function\n",
    "import os, sys, time, datetime, json, random\n",
    "import numpy as np\n",
    "from keras.models import Sequential\n",
    "from keras.layers.core import Dense, Activation\n",
    "from keras.optimizers import SGD , Adam, RMSprop\n",
    "from keras.layers.advanced_activations import PReLU\n",
    "import matplotlib.pyplot as plt\n",
    "from TreasureMaze import TreasureMaze\n",
    "from GameExperience import GameExperience\n",
    "%matplotlib inline"
   ]
  },
  {
   "attachments": {},
   "cell_type": "markdown",
   "metadata": {},
   "source": [
    "The following code block contains an 8x8 matrix that will be used as a maze object:"
   ]
  },
  {
   "cell_type": "code",
   "execution_count": 2,
   "metadata": {},
   "outputs": [],
   "source": [
    "maze = np.array([\n",
    "    [ 1.,  0.,  1.,  1.,  1.,  1.,  1.,  1.],\n",
    "    [ 1.,  0.,  1.,  1.,  1.,  0.,  1.,  1.],\n",
    "    [ 1.,  1.,  1.,  1.,  0.,  1.,  0.,  1.],\n",
    "    [ 1.,  1.,  1.,  0.,  1.,  1.,  1.,  1.],\n",
    "    [ 1.,  1.,  0.,  1.,  1.,  1.,  1.,  1.],\n",
    "    [ 1.,  1.,  1.,  0.,  1.,  0.,  0.,  0.],\n",
    "    [ 1.,  1.,  1.,  0.,  1.,  1.,  1.,  1.],\n",
    "    [ 1.,  1.,  1.,  1.,  0.,  1.,  1.,  1.]\n",
    "])"
   ]
  },
  {
   "attachments": {},
   "cell_type": "markdown",
   "metadata": {},
   "source": [
    "This helper function allows a visual representation of the maze object:"
   ]
  },
  {
   "cell_type": "code",
   "execution_count": 3,
   "metadata": {},
   "outputs": [],
   "source": [
    "def show(qmaze):\n",
    "    plt.grid('on')\n",
    "    nrows, ncols = qmaze.maze.shape\n",
    "    ax = plt.gca()\n",
    "    ax.set_xticks(np.arange(0.5, nrows, 1))\n",
    "    ax.set_yticks(np.arange(0.5, ncols, 1))\n",
    "    ax.set_xticklabels([])\n",
    "    ax.set_yticklabels([])\n",
    "    canvas = np.copy(qmaze.maze)\n",
    "    for row,col in qmaze.visited:\n",
    "        canvas[row,col] = 0.6\n",
    "    pirate_row, pirate_col, _ = qmaze.state\n",
    "    canvas[pirate_row, pirate_col] = 0.3   # pirate cell\n",
    "    canvas[nrows-1, ncols-1] = 0.9 # treasure cell\n",
    "    img = plt.imshow(canvas, interpolation='none', cmap='gray')\n",
    "    return img"
   ]
  },
  {
   "attachments": {},
   "cell_type": "markdown",
   "metadata": {},
   "source": [
    "The pirate agent can move in four directions: left, right, up, and down. \n",
    "\n",
    "While the agent primarily learns by experience through exploitation, often, the agent can choose to explore the environment to find previously undiscovered paths. This is called \"exploration\" and is defined by epsilon. This value is typically a lower value such as 0.1, which means for every ten attempts, the agent will attempt to learn by experience nine times and will randomly explore a new path one time. You are encouraged to try various values for the exploration factor and see how the algorithm performs."
   ]
  },
  {
   "cell_type": "code",
   "execution_count": 4,
   "metadata": {},
   "outputs": [],
   "source": [
    "LEFT = 0\n",
    "UP = 1\n",
    "RIGHT = 2\n",
    "DOWN = 3\n",
    "\n",
    "\n",
    "# Exploration factor\n",
    "# I moved this to the Q-Training algorithm, as I am using decaying epsilon\n",
    "\n",
    "# Actions dictionary\n",
    "actions_dict = {\n",
    "    LEFT: 'left',\n",
    "    UP: 'up',\n",
    "    RIGHT: 'right',\n",
    "    DOWN: 'down',\n",
    "}\n",
    "\n",
    "num_actions = len(actions_dict)"
   ]
  },
  {
   "attachments": {},
   "cell_type": "markdown",
   "metadata": {},
   "source": [
    "The sample code block and output below show creating a maze object and performing one action (DOWN), which returns the reward. The resulting updated environment is visualized."
   ]
  },
  {
   "cell_type": "code",
   "execution_count": 5,
   "metadata": {},
   "outputs": [
    {
     "name": "stdout",
     "output_type": "stream",
     "text": [
      "reward= -0.04\n"
     ]
    },
    {
     "data": {
      "text/plain": [
       "<matplotlib.image.AxesImage at 0x262cbf60d48>"
      ]
     },
     "execution_count": 5,
     "metadata": {},
     "output_type": "execute_result"
    },
    {
     "data": {
      "image/png": "[encoded data removed]",
      "text/plain": [
       "<Figure size 432x288 with 1 Axes>"
      ]
     },
     "metadata": {
      "needs_background": "light"
     },
     "output_type": "display_data"
    }
   ],
   "source": [
    "qmaze = TreasureMaze(maze)\n",
    "canvas, reward, game_over = qmaze.act(DOWN)\n",
    "print(\"reward=\", reward)\n",
    "show(qmaze)"
   ]
  },
  {
   "attachments": {},
   "cell_type": "markdown",
   "metadata": {},
   "source": [
    "This function simulates a full game based on the provided trained model. The other parameters include the TreasureMaze object and the starting position of the pirate."
   ]
  },
  {
   "cell_type": "code",
   "execution_count": 6,
   "metadata": {},
   "outputs": [],
   "source": [
    "def play_game(model, qmaze, pirate_cell):\n",
    "    qmaze.reset(pirate_cell)\n",
    "    envstate = qmaze.observe()\n",
    "    while True:\n",
    "        prev_envstate = envstate\n",
    "        # get next action\n",
    "        q = model.predict(prev_envstate)\n",
    "        action = np.argmax(q[0])\n",
    "\n",
    "        # apply action, get rewards and new state\n",
    "        envstate, reward, game_status = qmaze.act(action)\n",
    "        if game_status == 'win':\n",
    "            return True\n",
    "        elif game_status == 'lose':\n",
    "            return False"
   ]
  },
  {
   "attachments": {},
   "cell_type": "markdown",
   "metadata": {},
   "source": [
    "This function helps you to determine whether the pirate can win any game at all. If your maze is not well designed, the pirate may not win any game at all. In this case, your training would not yield any result. The provided maze in this notebook ensures that there is a path to win and you can run this method to check."
   ]
  },
  {
   "cell_type": "code",
   "execution_count": 7,
   "metadata": {},
   "outputs": [],
   "source": [
    "def completion_check(model, qmaze):\n",
    "    for cell in qmaze.free_cells:\n",
    "        if not qmaze.valid_actions(cell):\n",
    "            return False\n",
    "        if not play_game(model, qmaze, cell):\n",
    "            return False\n",
    "    return True"
   ]
  },
  {
   "attachments": {},
   "cell_type": "markdown",
   "metadata": {},
   "source": [
    "The code you have been given in this block will build the neural network model. Review the code and note the number of layers, as well as the activation, optimizer, and loss functions that are used to train the model."
   ]
  },
  {
   "cell_type": "code",
   "execution_count": 8,
   "metadata": {},
   "outputs": [],
   "source": [
    "def build_model(maze):\n",
    "    model = Sequential()\n",
    "    model.add(Dense(maze.size, input_shape=(maze.size,)))\n",
    "    model.add(PReLU())\n",
    "    model.add(Dense(maze.size))\n",
    "    model.add(PReLU())\n",
    "    model.add(Dense(num_actions))\n",
    "    model.compile(optimizer='adam', loss='mse')\n",
    "    return model"
   ]
  },
  {
   "attachments": {},
   "cell_type": "markdown",
   "metadata": {},
   "source": [
    "# Q-Training Algorithm Code Block\n",
    "\n",
    "This is your deep Q-learning implementation. The goal of your deep Q-learning implementation is to find the best possible navigation sequence that results in reaching the treasure cell while maximizing the reward. In your implementation, you need to determine the optimal number of epochs to achieve a 100% win rate.\n",
    "\n",
    "You will need to complete the section starting with #pseudocode. The pseudocode has been included for you."
   ]
  },
  {
   "cell_type": "code",
   "execution_count": 9,
   "metadata": {},
   "outputs": [],
   "source": [
    "def qtrain(model, maze, **opt):\n",
    "\n",
    "    # number of epochs\n",
    "    n_epoch = opt.get('n_epoch', 15000)\n",
    "\n",
    "    # maximum memory to store episodes\n",
    "    max_memory = opt.get('max_memory', 1000)\n",
    "\n",
    "    # maximum data size for training\n",
    "    data_size = opt.get('data_size', 50)\n",
    "\n",
    "    # start time\n",
    "    start_time = datetime.datetime.now()\n",
    "\n",
    "    # Construct environment/game from numpy array: maze (see above)\n",
    "    qmaze = TreasureMaze(maze)\n",
    "\n",
    "    # Initialize experience replay object\n",
    "    experience = GameExperience(model, max_memory=max_memory)\n",
    "    \n",
    "    win_history = []   # history of win/lose game\n",
    "    hsize = qmaze.maze.size//2   # history window size\n",
    "    win_rate = 0.0\n",
    "    \n",
    "    # Setup for decaying epsilon\n",
    "    initial_epsilon = 0.5\n",
    "    min_epsilon = 0.01\n",
    "    curr_epsilon = initial_epsilon\n",
    "\n",
    "    for epoch in range(n_epoch):\n",
    "\n",
    "        # Agent_cell = randomly select a free cell\n",
    "        agent_cell = tuple(random.choice(qmaze.free_cells))\n",
    "\n",
    "        # Reset the maze with the agent set to the above position\n",
    "        qmaze.reset(agent_cell)\n",
    "\n",
    "        # envstate = Environment.current_state\n",
    "        envstate = qmaze.observe()\n",
    "\n",
    "        n_episodes = 0\n",
    "        while qmaze.game_status() == 'not_over':\n",
    "            previous_envstate = envstate\n",
    "\n",
    "            #scaling the epsilon decay with the current epoch\n",
    "            epsilon_decay = -np.log(min_epsilon / initial_epsilon) / n_epoch\n",
    "            curr_epsilon = initial_epsilon * np.exp(-epsilon_decay * epoch)\n",
    "\n",
    "            # Get valid actions\n",
    "            valid_actions = qmaze.valid_actions()\n",
    "\n",
    "            # Action = randomly choose action (left, right, up, down) either by exploration or by exploitation\n",
    "            if np.random.rand() < curr_epsilon:\n",
    "                action = random.choice(valid_actions)\n",
    "            else:\n",
    "                q_values = model.predict(previous_envstate)[0]\n",
    "                action = np.argmax(q_values)\n",
    "\n",
    "            # envstate, reward, game_status = qmaze.act(action)\n",
    "            envstate, reward, game_status = qmaze.act(action)\n",
    "\n",
    "            # episode = [previous_envstate, action, reward, envstate, game_status]\n",
    "            episode = [previous_envstate, action, reward, envstate, game_status]\n",
    "\n",
    "            # Store episode in Experience replay object\n",
    "            experience.remember(episode)\n",
    "\n",
    "            # Increment number of episodes\n",
    "            n_episodes += 1\n",
    "\n",
    "            # Track game status and update win_history\n",
    "            if game_status in ['win', 'lose']:\n",
    "                win_history.append(game_status == 'win')\n",
    "                break\n",
    "        \n",
    "        # Train neural network model and evaluate loss after each step\n",
    "        inputs, targets = experience.get_data(data_size)\n",
    "        model.fit(inputs, targets, epochs=16, batch_size=32, verbose=0)\n",
    "        loss = model.evaluate(inputs, targets, verbose=0)\n",
    "\n",
    "        win_rate = sum(win_history[-hsize:]) / hsize\n",
    "\n",
    "        #Print the epoch, loss, episodes, win count, and win rate for each epoch\n",
    "        dt = datetime.datetime.now() - start_time\n",
    "        t = format_time(dt.total_seconds())\n",
    "        template = \"Epoch: {:03d}/{:d} | Loss: {:.4f} | Episodes: {:d} | Win count: {:d} | Win rate: {:.3f} | time: {}\"\n",
    "        print(template.format(epoch, n_epoch-1, loss, n_episodes, sum(win_history), win_rate, t))\n",
    "        \n",
    "        # We simply check if training has exhausted all free cells and if in all\n",
    "        # cases the agent won.\n",
    "        \n",
    "        # Removed epsilon modification on high win rate since it scales \n",
    "        if sum(win_history[-hsize:]) == hsize and completion_check(model, qmaze):\n",
    "            print(\"Reached 100%% win rate at epoch: %d\" % (epoch,))\n",
    "            break\n",
    "    \n",
    "    \n",
    "    # Determine the total time for training\n",
    "    dt = datetime.datetime.now() - start_time\n",
    "    seconds = dt.total_seconds()\n",
    "    t = format_time(seconds)\n",
    "\n",
    "    print(\"n_epoch: %d, max_mem: %d, data: %d, time: %s\" % (epoch, max_memory, data_size, t))\n",
    "    return seconds\n",
    "\n",
    "# This is a small utility for printing readable time strings:\n",
    "def format_time(seconds):\n",
    "    if seconds < 400:\n",
    "        s = float(seconds)\n",
    "        return \"%.1f seconds\" % (s,)\n",
    "    elif seconds < 4000:\n",
    "        m = seconds / 60.0\n",
    "        return \"%.2f minutes\" % (m,)\n",
    "    else:\n",
    "        h = seconds / 3600.0\n",
    "        return \"%.2f hours\" % (h,)"
   ]
  },
  {
   "attachments": {},
   "cell_type": "markdown",
   "metadata": {},
   "source": [
    "## Test Your Model\n",
    "\n",
    "Now we will start testing the deep Q-learning implementation. To begin, select **Cell**, then **Run All** from the menu bar. This will run your notebook. As it runs, you should see output begin to appear beneath the next few cells. The code below creates an instance of TreasureMaze."
   ]
  },
  {
   "cell_type": "code",
   "execution_count": 10,
   "metadata": {},
   "outputs": [
    {
     "data": {
      "text/plain": [
       "<matplotlib.image.AxesImage at 0x262cc023908>"
      ]
     },
     "execution_count": 10,
     "metadata": {},
     "output_type": "execute_result"
    },
    {
     "data": {
      "image/png": "[encoded data removed]",
      "text/plain": [
       "<Figure size 432x288 with 1 Axes>"
      ]
     },
     "metadata": {
      "needs_background": "light"
     },
     "output_type": "display_data"
    }
   ],
   "source": [
    "qmaze = TreasureMaze(maze)\n",
    "show(qmaze)"
   ]
  },
  {
   "attachments": {},
   "cell_type": "markdown",
   "metadata": {},
   "source": [
    "In the next code block, you will build your model and train it using deep Q-learning. Note: This step takes several minutes to fully run."
   ]
  },
  {
   "cell_type": "code",
   "execution_count": 11,
   "metadata": {
    "scrolled": true
   },
   "outputs": [
    {
     "name": "stdout",
     "output_type": "stream",
     "text": [
      "Epoch: 000/1499 | Loss: 0.0265 | Episodes: 133 | Win count: 0 | Win rate: 0.000 | time: 3.7 seconds\n",
      "Epoch: 001/1499 | Loss: 0.0052 | Episodes: 134 | Win count: 0 | Win rate: 0.000 | time: 4.4 seconds\n",
      "Epoch: 002/1499 | Loss: 0.0070 | Episodes: 150 | Win count: 0 | Win rate: 0.000 | time: 5.1 seconds\n",
      "Epoch: 003/1499 | Loss: 0.0157 | Episodes: 149 | Win count: 0 | Win rate: 0.000 | time: 5.8 seconds\n",
      "Epoch: 004/1499 | Loss: 0.0108 | Episodes: 140 | Win count: 0 | Win rate: 0.000 | time: 6.6 seconds\n",
      "Epoch: 005/1499 | Loss: 0.0143 | Episodes: 139 | Win count: 0 | Win rate: 0.000 | time: 7.3 seconds\n",
      "Epoch: 006/1499 | Loss: 0.0128 | Episodes: 142 | Win count: 0 | Win rate: 0.000 | time: 8.0 seconds\n",
      "Epoch: 007/1499 | Loss: 0.0079 | Episodes: 150 | Win count: 0 | Win rate: 0.000 | time: 8.7 seconds\n",
      "Epoch: 008/1499 | Loss: 0.0061 | Episodes: 40 | Win count: 1 | Win rate: 0.031 | time: 9.4 seconds\n",
      "Epoch: 009/1499 | Loss: 0.0098 | Episodes: 151 | Win count: 1 | Win rate: 0.031 | time: 10.4 seconds\n",
      "Epoch: 010/1499 | Loss: 0.0055 | Episodes: 145 | Win count: 1 | Win rate: 0.031 | time: 11.1 seconds\n",
      "Epoch: 011/1499 | Loss: 0.0043 | Episodes: 149 | Win count: 1 | Win rate: 0.031 | time: 12.0 seconds\n",
      "Epoch: 012/1499 | Loss: 0.0039 | Episodes: 144 | Win count: 1 | Win rate: 0.031 | time: 12.7 seconds\n",
      "Epoch: 013/1499 | Loss: 0.0037 | Episodes: 147 | Win count: 1 | Win rate: 0.031 | time: 13.4 seconds\n",
      "Epoch: 014/1499 | Loss: 0.0032 | Episodes: 139 | Win count: 1 | Win rate: 0.031 | time: 14.1 seconds\n",
      "Epoch: 015/1499 | Loss: 0.0021 | Episodes: 135 | Win count: 1 | Win rate: 0.031 | time: 15.0 seconds\n",
      "Epoch: 016/1499 | Loss: 0.0014 | Episodes: 146 | Win count: 1 | Win rate: 0.031 | time: 15.9 seconds\n",
      "Epoch: 017/1499 | Loss: 0.0023 | Episodes: 146 | Win count: 1 | Win rate: 0.031 | time: 16.7 seconds\n",
      "Epoch: 018/1499 | Loss: 0.0013 | Episodes: 139 | Win count: 1 | Win rate: 0.031 | time: 17.5 seconds\n",
      "Epoch: 019/1499 | Loss: 0.0011 | Episodes: 146 | Win count: 1 | Win rate: 0.031 | time: 18.4 seconds\n",
      "Epoch: 020/1499 | Loss: 0.0014 | Episodes: 140 | Win count: 1 | Win rate: 0.031 | time: 19.2 seconds\n",
      "Epoch: 021/1499 | Loss: 0.0008 | Episodes: 150 | Win count: 1 | Win rate: 0.031 | time: 20.2 seconds\n",
      "Epoch: 022/1499 | Loss: 0.0014 | Episodes: 135 | Win count: 1 | Win rate: 0.031 | time: 21.0 seconds\n",
      "Epoch: 023/1499 | Loss: 0.0010 | Episodes: 139 | Win count: 1 | Win rate: 0.031 | time: 21.7 seconds\n",
      "Epoch: 024/1499 | Loss: 0.0012 | Episodes: 142 | Win count: 1 | Win rate: 0.031 | time: 22.3 seconds\n",
      "Epoch: 025/1499 | Loss: 0.0012 | Episodes: 138 | Win count: 1 | Win rate: 0.031 | time: 23.0 seconds\n",
      "Epoch: 026/1499 | Loss: 0.0011 | Episodes: 143 | Win count: 1 | Win rate: 0.031 | time: 23.6 seconds\n",
      "Epoch: 027/1499 | Loss: 0.0015 | Episodes: 9 | Win count: 2 | Win rate: 0.062 | time: 24.2 seconds\n",
      "Epoch: 028/1499 | Loss: 0.0013 | Episodes: 143 | Win count: 2 | Win rate: 0.062 | time: 24.9 seconds\n",
      "Epoch: 029/1499 | Loss: 0.0009 | Episodes: 136 | Win count: 2 | Win rate: 0.062 | time: 25.4 seconds\n",
      "Epoch: 030/1499 | Loss: 0.0007 | Episodes: 140 | Win count: 2 | Win rate: 0.062 | time: 26.0 seconds\n",
      "Epoch: 031/1499 | Loss: 0.0011 | Episodes: 136 | Win count: 2 | Win rate: 0.062 | time: 26.7 seconds\n",
      "Epoch: 032/1499 | Loss: 0.0013 | Episodes: 142 | Win count: 2 | Win rate: 0.062 | time: 27.4 seconds\n",
      "Epoch: 033/1499 | Loss: 0.0013 | Episodes: 144 | Win count: 2 | Win rate: 0.062 | time: 28.3 seconds\n",
      "Epoch: 034/1499 | Loss: 0.0013 | Episodes: 139 | Win count: 2 | Win rate: 0.062 | time: 29.1 seconds\n",
      "Epoch: 035/1499 | Loss: 0.0013 | Episodes: 145 | Win count: 2 | Win rate: 0.062 | time: 30.0 seconds\n",
      "Epoch: 036/1499 | Loss: 0.0008 | Episodes: 141 | Win count: 2 | Win rate: 0.062 | time: 30.9 seconds\n",
      "Epoch: 037/1499 | Loss: 0.0009 | Episodes: 142 | Win count: 2 | Win rate: 0.062 | time: 31.6 seconds\n",
      "Epoch: 038/1499 | Loss: 0.0014 | Episodes: 137 | Win count: 2 | Win rate: 0.062 | time: 32.3 seconds\n",
      "Epoch: 039/1499 | Loss: 0.0015 | Episodes: 152 | Win count: 2 | Win rate: 0.062 | time: 32.9 seconds\n",
      "Epoch: 040/1499 | Loss: 0.0010 | Episodes: 56 | Win count: 3 | Win rate: 0.062 | time: 33.5 seconds\n",
      "Epoch: 041/1499 | Loss: 0.0010 | Episodes: 135 | Win count: 3 | Win rate: 0.062 | time: 34.1 seconds\n",
      "Epoch: 042/1499 | Loss: 0.0006 | Episodes: 18 | Win count: 4 | Win rate: 0.094 | time: 34.8 seconds\n",
      "Epoch: 043/1499 | Loss: 0.0010 | Episodes: 141 | Win count: 4 | Win rate: 0.094 | time: 35.4 seconds\n",
      "Epoch: 044/1499 | Loss: 0.0010 | Episodes: 139 | Win count: 4 | Win rate: 0.094 | time: 36.0 seconds\n",
      "Epoch: 045/1499 | Loss: 0.0011 | Episodes: 138 | Win count: 4 | Win rate: 0.094 | time: 36.6 seconds\n",
      "Epoch: 046/1499 | Loss: 0.0009 | Episodes: 139 | Win count: 4 | Win rate: 0.094 | time: 37.4 seconds\n",
      "Epoch: 047/1499 | Loss: 0.0005 | Episodes: 136 | Win count: 4 | Win rate: 0.094 | time: 38.1 seconds\n",
      "Epoch: 048/1499 | Loss: 0.0010 | Episodes: 39 | Win count: 5 | Win rate: 0.125 | time: 39.0 seconds\n",
      "Epoch: 049/1499 | Loss: 0.0010 | Episodes: 137 | Win count: 5 | Win rate: 0.125 | time: 39.9 seconds\n",
      "Epoch: 050/1499 | Loss: 0.0013 | Episodes: 156 | Win count: 5 | Win rate: 0.125 | time: 41.0 seconds\n",
      "Epoch: 051/1499 | Loss: 0.0007 | Episodes: 144 | Win count: 5 | Win rate: 0.125 | time: 41.8 seconds\n",
      "Epoch: 052/1499 | Loss: 0.0009 | Episodes: 145 | Win count: 5 | Win rate: 0.125 | time: 42.5 seconds\n",
      "Epoch: 053/1499 | Loss: 0.0012 | Episodes: 143 | Win count: 5 | Win rate: 0.125 | time: 43.1 seconds\n",
      "Epoch: 054/1499 | Loss: 0.0037 | Episodes: 149 | Win count: 5 | Win rate: 0.125 | time: 44.1 seconds\n",
      "Epoch: 055/1499 | Loss: 0.0038 | Episodes: 54 | Win count: 6 | Win rate: 0.156 | time: 45.0 seconds\n",
      "Epoch: 056/1499 | Loss: 0.0026 | Episodes: 144 | Win count: 6 | Win rate: 0.156 | time: 46.5 seconds\n",
      "Epoch: 057/1499 | Loss: 0.0017 | Episodes: 146 | Win count: 6 | Win rate: 0.156 | time: 47.7 seconds\n",
      "Epoch: 058/1499 | Loss: 0.0016 | Episodes: 141 | Win count: 6 | Win rate: 0.156 | time: 48.9 seconds\n",
      "Epoch: 059/1499 | Loss: 0.0007 | Episodes: 139 | Win count: 6 | Win rate: 0.125 | time: 50.1 seconds\n",
      "Epoch: 060/1499 | Loss: 0.0014 | Episodes: 143 | Win count: 6 | Win rate: 0.125 | time: 51.8 seconds\n",
      "Epoch: 061/1499 | Loss: 0.0010 | Episodes: 37 | Win count: 7 | Win rate: 0.156 | time: 53.1 seconds\n",
      "Epoch: 062/1499 | Loss: 0.0010 | Episodes: 30 | Win count: 8 | Win rate: 0.188 | time: 54.2 seconds\n",
      "Epoch: 063/1499 | Loss: 0.0012 | Episodes: 147 | Win count: 9 | Win rate: 0.219 | time: 55.5 seconds\n",
      "Epoch: 064/1499 | Loss: 0.0011 | Episodes: 145 | Win count: 9 | Win rate: 0.219 | time: 56.6 seconds\n",
      "Epoch: 065/1499 | Loss: 0.0013 | Episodes: 147 | Win count: 9 | Win rate: 0.219 | time: 57.8 seconds\n",
      "Epoch: 066/1499 | Loss: 0.0012 | Episodes: 97 | Win count: 10 | Win rate: 0.250 | time: 59.6 seconds\n",
      "Epoch: 067/1499 | Loss: 0.0039 | Episodes: 127 | Win count: 11 | Win rate: 0.281 | time: 60.8 seconds\n",
      "Epoch: 068/1499 | Loss: 0.0012 | Episodes: 1 | Win count: 12 | Win rate: 0.312 | time: 62.3 seconds\n",
      "Epoch: 069/1499 | Loss: 0.0013 | Episodes: 142 | Win count: 12 | Win rate: 0.312 | time: 63.2 seconds\n",
      "Epoch: 070/1499 | Loss: 0.0013 | Episodes: 61 | Win count: 13 | Win rate: 0.344 | time: 64.3 seconds\n",
      "Epoch: 071/1499 | Loss: 0.0036 | Episodes: 7 | Win count: 14 | Win rate: 0.375 | time: 65.5 seconds\n",
      "Epoch: 072/1499 | Loss: 0.0012 | Episodes: 142 | Win count: 14 | Win rate: 0.344 | time: 66.7 seconds\n",
      "Epoch: 073/1499 | Loss: 0.0010 | Episodes: 139 | Win count: 14 | Win rate: 0.344 | time: 67.4 seconds\n",
      "Epoch: 074/1499 | Loss: 0.0011 | Episodes: 141 | Win count: 14 | Win rate: 0.312 | time: 68.5 seconds\n",
      "Epoch: 075/1499 | Loss: 0.0011 | Episodes: 137 | Win count: 14 | Win rate: 0.312 | time: 69.6 seconds\n",
      "Epoch: 076/1499 | Loss: 0.0036 | Episodes: 18 | Win count: 15 | Win rate: 0.344 | time: 70.8 seconds\n",
      "Epoch: 077/1499 | Loss: 0.0031 | Episodes: 139 | Win count: 16 | Win rate: 0.375 | time: 72.0 seconds\n",
      "Epoch: 078/1499 | Loss: 0.0020 | Episodes: 140 | Win count: 16 | Win rate: 0.375 | time: 72.8 seconds\n",
      "Epoch: 079/1499 | Loss: 0.0017 | Episodes: 138 | Win count: 16 | Win rate: 0.375 | time: 74.4 seconds\n",
      "Epoch: 080/1499 | Loss: 0.0013 | Episodes: 136 | Win count: 16 | Win rate: 0.344 | time: 75.6 seconds\n",
      "Epoch: 081/1499 | Loss: 0.0036 | Episodes: 2 | Win count: 17 | Win rate: 0.375 | time: 76.8 seconds\n"
     ]
    },
    {
     "name": "stdout",
     "output_type": "stream",
     "text": [
      "Epoch: 082/1499 | Loss: 0.0009 | Episodes: 4 | Win count: 18 | Win rate: 0.406 | time: 78.0 seconds\n",
      "Epoch: 083/1499 | Loss: 0.0009 | Episodes: 143 | Win count: 18 | Win rate: 0.406 | time: 79.2 seconds\n",
      "Epoch: 084/1499 | Loss: 0.0047 | Episodes: 136 | Win count: 18 | Win rate: 0.406 | time: 80.4 seconds\n",
      "Epoch: 085/1499 | Loss: 0.0014 | Episodes: 139 | Win count: 18 | Win rate: 0.406 | time: 81.5 seconds\n",
      "Epoch: 086/1499 | Loss: 0.0013 | Episodes: 146 | Win count: 18 | Win rate: 0.406 | time: 82.7 seconds\n",
      "Epoch: 087/1499 | Loss: 0.0018 | Episodes: 14 | Win count: 19 | Win rate: 0.406 | time: 83.9 seconds\n",
      "Epoch: 088/1499 | Loss: 0.0007 | Episodes: 141 | Win count: 19 | Win rate: 0.406 | time: 85.1 seconds\n",
      "Epoch: 089/1499 | Loss: 0.0041 | Episodes: 22 | Win count: 20 | Win rate: 0.438 | time: 86.3 seconds\n",
      "Epoch: 090/1499 | Loss: 0.0012 | Episodes: 146 | Win count: 20 | Win rate: 0.438 | time: 87.5 seconds\n",
      "Epoch: 091/1499 | Loss: 0.0013 | Episodes: 134 | Win count: 20 | Win rate: 0.438 | time: 88.8 seconds\n",
      "Epoch: 092/1499 | Loss: 0.0012 | Episodes: 1 | Win count: 21 | Win rate: 0.469 | time: 89.9 seconds\n",
      "Epoch: 093/1499 | Loss: 0.0014 | Episodes: 135 | Win count: 21 | Win rate: 0.438 | time: 91.1 seconds\n",
      "Epoch: 094/1499 | Loss: 0.0010 | Episodes: 144 | Win count: 21 | Win rate: 0.406 | time: 92.2 seconds\n",
      "Epoch: 095/1499 | Loss: 0.0009 | Episodes: 139 | Win count: 21 | Win rate: 0.375 | time: 93.5 seconds\n",
      "Epoch: 096/1499 | Loss: 0.0010 | Episodes: 144 | Win count: 21 | Win rate: 0.375 | time: 95.2 seconds\n",
      "Epoch: 097/1499 | Loss: 0.0010 | Episodes: 139 | Win count: 21 | Win rate: 0.375 | time: 96.4 seconds\n",
      "Epoch: 098/1499 | Loss: 0.0011 | Episodes: 116 | Win count: 22 | Win rate: 0.375 | time: 97.6 seconds\n",
      "Epoch: 099/1499 | Loss: 0.0013 | Episodes: 136 | Win count: 22 | Win rate: 0.344 | time: 98.8 seconds\n",
      "Epoch: 100/1499 | Loss: 0.0008 | Episodes: 139 | Win count: 22 | Win rate: 0.312 | time: 100.0 seconds\n",
      "Epoch: 101/1499 | Loss: 0.0011 | Episodes: 48 | Win count: 23 | Win rate: 0.344 | time: 101.1 seconds\n",
      "Epoch: 102/1499 | Loss: 0.0008 | Episodes: 138 | Win count: 23 | Win rate: 0.312 | time: 101.8 seconds\n",
      "Epoch: 103/1499 | Loss: 0.0007 | Episodes: 99 | Win count: 24 | Win rate: 0.312 | time: 102.5 seconds\n",
      "Epoch: 104/1499 | Loss: 0.0011 | Episodes: 139 | Win count: 24 | Win rate: 0.312 | time: 103.3 seconds\n",
      "Epoch: 105/1499 | Loss: 0.0039 | Episodes: 134 | Win count: 24 | Win rate: 0.312 | time: 103.9 seconds\n",
      "Epoch: 106/1499 | Loss: 0.0015 | Episodes: 144 | Win count: 24 | Win rate: 0.312 | time: 104.9 seconds\n",
      "Epoch: 107/1499 | Loss: 0.0013 | Episodes: 144 | Win count: 24 | Win rate: 0.312 | time: 105.9 seconds\n",
      "Epoch: 108/1499 | Loss: 0.0014 | Episodes: 147 | Win count: 24 | Win rate: 0.281 | time: 106.6 seconds\n",
      "Epoch: 109/1499 | Loss: 0.0009 | Episodes: 120 | Win count: 25 | Win rate: 0.281 | time: 107.2 seconds\n",
      "Epoch: 110/1499 | Loss: 0.0010 | Episodes: 1 | Win count: 26 | Win rate: 0.312 | time: 108.0 seconds\n",
      "Epoch: 111/1499 | Loss: 0.0019 | Episodes: 38 | Win count: 27 | Win rate: 0.344 | time: 108.7 seconds\n",
      "Epoch: 112/1499 | Loss: 0.0012 | Episodes: 138 | Win count: 27 | Win rate: 0.344 | time: 109.3 seconds\n",
      "Epoch: 113/1499 | Loss: 0.0011 | Episodes: 33 | Win count: 28 | Win rate: 0.344 | time: 109.9 seconds\n",
      "Epoch: 114/1499 | Loss: 0.0015 | Episodes: 2 | Win count: 29 | Win rate: 0.344 | time: 110.5 seconds\n",
      "Epoch: 115/1499 | Loss: 0.0010 | Episodes: 20 | Win count: 30 | Win rate: 0.375 | time: 111.1 seconds\n",
      "Epoch: 116/1499 | Loss: 0.0010 | Episodes: 59 | Win count: 31 | Win rate: 0.406 | time: 111.8 seconds\n",
      "Epoch: 117/1499 | Loss: 0.0011 | Episodes: 137 | Win count: 31 | Win rate: 0.406 | time: 112.4 seconds\n",
      "Epoch: 118/1499 | Loss: 0.0011 | Episodes: 32 | Win count: 32 | Win rate: 0.438 | time: 112.9 seconds\n",
      "Epoch: 119/1499 | Loss: 0.0013 | Episodes: 68 | Win count: 33 | Win rate: 0.438 | time: 113.6 seconds\n",
      "Epoch: 120/1499 | Loss: 0.0012 | Episodes: 135 | Win count: 33 | Win rate: 0.438 | time: 114.3 seconds\n",
      "Epoch: 121/1499 | Loss: 0.0012 | Episodes: 141 | Win count: 33 | Win rate: 0.406 | time: 114.9 seconds\n",
      "Epoch: 122/1499 | Loss: 0.0013 | Episodes: 136 | Win count: 33 | Win rate: 0.406 | time: 115.7 seconds\n",
      "Epoch: 123/1499 | Loss: 0.0007 | Episodes: 74 | Win count: 34 | Win rate: 0.438 | time: 116.4 seconds\n",
      "Epoch: 124/1499 | Loss: 0.0011 | Episodes: 139 | Win count: 34 | Win rate: 0.406 | time: 117.3 seconds\n",
      "Epoch: 125/1499 | Loss: 0.0015 | Episodes: 107 | Win count: 35 | Win rate: 0.438 | time: 118.0 seconds\n",
      "Epoch: 126/1499 | Loss: 0.0010 | Episodes: 2 | Win count: 36 | Win rate: 0.469 | time: 118.7 seconds\n",
      "Epoch: 127/1499 | Loss: 0.0013 | Episodes: 136 | Win count: 36 | Win rate: 0.469 | time: 119.5 seconds\n",
      "Epoch: 128/1499 | Loss: 0.0014 | Episodes: 145 | Win count: 36 | Win rate: 0.469 | time: 120.3 seconds\n",
      "Epoch: 129/1499 | Loss: 0.0011 | Episodes: 30 | Win count: 37 | Win rate: 0.500 | time: 121.0 seconds\n",
      "Epoch: 130/1499 | Loss: 0.0009 | Episodes: 9 | Win count: 38 | Win rate: 0.500 | time: 121.6 seconds\n",
      "Epoch: 131/1499 | Loss: 0.0010 | Episodes: 15 | Win count: 39 | Win rate: 0.531 | time: 122.5 seconds\n",
      "Epoch: 132/1499 | Loss: 0.0007 | Episodes: 135 | Win count: 39 | Win rate: 0.531 | time: 123.1 seconds\n",
      "Epoch: 133/1499 | Loss: 0.0012 | Episodes: 138 | Win count: 39 | Win rate: 0.500 | time: 123.9 seconds\n",
      "Epoch: 134/1499 | Loss: 0.0011 | Episodes: 2 | Win count: 40 | Win rate: 0.531 | time: 124.5 seconds\n",
      "Epoch: 135/1499 | Loss: 0.0010 | Episodes: 143 | Win count: 40 | Win rate: 0.500 | time: 125.1 seconds\n",
      "Epoch: 136/1499 | Loss: 0.0012 | Episodes: 14 | Win count: 41 | Win rate: 0.531 | time: 125.7 seconds\n",
      "Epoch: 137/1499 | Loss: 0.0008 | Episodes: 138 | Win count: 41 | Win rate: 0.531 | time: 126.3 seconds\n",
      "Epoch: 138/1499 | Loss: 0.0014 | Episodes: 138 | Win count: 41 | Win rate: 0.531 | time: 127.0 seconds\n",
      "Epoch: 139/1499 | Loss: 0.0010 | Episodes: 4 | Win count: 42 | Win rate: 0.562 | time: 127.7 seconds\n",
      "Epoch: 140/1499 | Loss: 0.0008 | Episodes: 136 | Win count: 42 | Win rate: 0.562 | time: 128.4 seconds\n",
      "Epoch: 141/1499 | Loss: 0.0005 | Episodes: 138 | Win count: 42 | Win rate: 0.531 | time: 129.1 seconds\n",
      "Epoch: 142/1499 | Loss: 0.0010 | Episodes: 134 | Win count: 42 | Win rate: 0.500 | time: 130.3 seconds\n",
      "Epoch: 143/1499 | Loss: 0.0012 | Episodes: 142 | Win count: 42 | Win rate: 0.469 | time: 131.2 seconds\n",
      "Epoch: 144/1499 | Loss: 0.0009 | Episodes: 135 | Win count: 42 | Win rate: 0.469 | time: 132.2 seconds\n",
      "Epoch: 145/1499 | Loss: 0.0008 | Episodes: 61 | Win count: 43 | Win rate: 0.469 | time: 132.8 seconds\n",
      "Epoch: 146/1499 | Loss: 0.0011 | Episodes: 144 | Win count: 43 | Win rate: 0.438 | time: 133.4 seconds\n",
      "Epoch: 147/1499 | Loss: 0.0013 | Episodes: 9 | Win count: 44 | Win rate: 0.438 | time: 134.2 seconds\n",
      "Epoch: 148/1499 | Loss: 0.0008 | Episodes: 33 | Win count: 45 | Win rate: 0.438 | time: 134.8 seconds\n",
      "Epoch: 149/1499 | Loss: 0.0006 | Episodes: 14 | Win count: 46 | Win rate: 0.469 | time: 135.7 seconds\n",
      "Epoch: 150/1499 | Loss: 0.0011 | Episodes: 139 | Win count: 46 | Win rate: 0.438 | time: 136.6 seconds\n",
      "Epoch: 151/1499 | Loss: 0.0010 | Episodes: 59 | Win count: 47 | Win rate: 0.438 | time: 137.4 seconds\n",
      "Epoch: 152/1499 | Loss: 0.0006 | Episodes: 135 | Win count: 47 | Win rate: 0.438 | time: 138.1 seconds\n",
      "Epoch: 153/1499 | Loss: 0.0008 | Episodes: 48 | Win count: 48 | Win rate: 0.469 | time: 138.8 seconds\n",
      "Epoch: 154/1499 | Loss: 0.0012 | Episodes: 147 | Win count: 48 | Win rate: 0.469 | time: 139.6 seconds\n",
      "Epoch: 155/1499 | Loss: 0.0010 | Episodes: 27 | Win count: 49 | Win rate: 0.469 | time: 140.4 seconds\n",
      "Epoch: 156/1499 | Loss: 0.0008 | Episodes: 42 | Win count: 50 | Win rate: 0.500 | time: 141.2 seconds\n",
      "Epoch: 157/1499 | Loss: 0.0016 | Episodes: 13 | Win count: 51 | Win rate: 0.500 | time: 141.9 seconds\n",
      "Epoch: 158/1499 | Loss: 0.0006 | Episodes: 18 | Win count: 52 | Win rate: 0.500 | time: 142.5 seconds\n",
      "Epoch: 159/1499 | Loss: 0.0010 | Episodes: 137 | Win count: 52 | Win rate: 0.500 | time: 143.3 seconds\n",
      "Epoch: 160/1499 | Loss: 0.0009 | Episodes: 135 | Win count: 52 | Win rate: 0.500 | time: 144.0 seconds\n",
      "Epoch: 161/1499 | Loss: 0.0010 | Episodes: 138 | Win count: 52 | Win rate: 0.469 | time: 144.9 seconds\n",
      "Epoch: 162/1499 | Loss: 0.0009 | Episodes: 1 | Win count: 53 | Win rate: 0.469 | time: 145.7 seconds\n"
     ]
    },
    {
     "name": "stdout",
     "output_type": "stream",
     "text": [
      "Epoch: 163/1499 | Loss: 0.0010 | Episodes: 40 | Win count: 54 | Win rate: 0.469 | time: 146.4 seconds\n",
      "Epoch: 164/1499 | Loss: 0.0011 | Episodes: 17 | Win count: 55 | Win rate: 0.500 | time: 147.1 seconds\n",
      "Epoch: 165/1499 | Loss: 0.0010 | Episodes: 3 | Win count: 56 | Win rate: 0.531 | time: 147.9 seconds\n",
      "Epoch: 166/1499 | Loss: 0.0007 | Episodes: 28 | Win count: 57 | Win rate: 0.531 | time: 148.7 seconds\n",
      "Epoch: 167/1499 | Loss: 0.0010 | Episodes: 12 | Win count: 58 | Win rate: 0.562 | time: 149.3 seconds\n",
      "Epoch: 168/1499 | Loss: 0.0012 | Episodes: 142 | Win count: 58 | Win rate: 0.531 | time: 150.3 seconds\n",
      "Epoch: 169/1499 | Loss: 0.0012 | Episodes: 17 | Win count: 59 | Win rate: 0.562 | time: 150.9 seconds\n",
      "Epoch: 170/1499 | Loss: 0.0009 | Episodes: 17 | Win count: 60 | Win rate: 0.594 | time: 151.5 seconds\n",
      "Epoch: 171/1499 | Loss: 0.0005 | Episodes: 141 | Win count: 60 | Win rate: 0.562 | time: 152.3 seconds\n",
      "Epoch: 172/1499 | Loss: 0.0010 | Episodes: 141 | Win count: 60 | Win rate: 0.562 | time: 153.1 seconds\n",
      "Epoch: 173/1499 | Loss: 0.0010 | Episodes: 135 | Win count: 60 | Win rate: 0.562 | time: 153.9 seconds\n",
      "Epoch: 174/1499 | Loss: 0.0009 | Episodes: 3 | Win count: 61 | Win rate: 0.594 | time: 154.4 seconds\n",
      "Epoch: 175/1499 | Loss: 0.0010 | Episodes: 135 | Win count: 61 | Win rate: 0.594 | time: 155.3 seconds\n",
      "Epoch: 176/1499 | Loss: 0.0008 | Episodes: 140 | Win count: 61 | Win rate: 0.594 | time: 156.1 seconds\n",
      "Epoch: 177/1499 | Loss: 0.0008 | Episodes: 9 | Win count: 62 | Win rate: 0.594 | time: 156.9 seconds\n",
      "Epoch: 178/1499 | Loss: 0.0009 | Episodes: 143 | Win count: 62 | Win rate: 0.594 | time: 157.9 seconds\n",
      "Epoch: 179/1499 | Loss: 0.0009 | Episodes: 141 | Win count: 62 | Win rate: 0.562 | time: 158.8 seconds\n",
      "Epoch: 180/1499 | Loss: 0.0010 | Episodes: 9 | Win count: 63 | Win rate: 0.562 | time: 159.4 seconds\n",
      "Epoch: 181/1499 | Loss: 0.0010 | Episodes: 9 | Win count: 64 | Win rate: 0.562 | time: 160.6 seconds\n",
      "Epoch: 182/1499 | Loss: 0.0008 | Episodes: 133 | Win count: 64 | Win rate: 0.562 | time: 161.6 seconds\n",
      "Epoch: 183/1499 | Loss: 0.0009 | Episodes: 136 | Win count: 64 | Win rate: 0.531 | time: 162.3 seconds\n",
      "Epoch: 184/1499 | Loss: 0.0005 | Episodes: 52 | Win count: 65 | Win rate: 0.562 | time: 163.1 seconds\n",
      "Epoch: 185/1499 | Loss: 0.0006 | Episodes: 15 | Win count: 66 | Win rate: 0.562 | time: 164.0 seconds\n",
      "Epoch: 186/1499 | Loss: 0.0007 | Episodes: 6 | Win count: 67 | Win rate: 0.594 | time: 165.3 seconds\n",
      "Epoch: 187/1499 | Loss: 0.0011 | Episodes: 15 | Win count: 68 | Win rate: 0.594 | time: 166.0 seconds\n",
      "Epoch: 188/1499 | Loss: 0.0009 | Episodes: 1 | Win count: 69 | Win rate: 0.594 | time: 166.7 seconds\n",
      "Epoch: 189/1499 | Loss: 0.0007 | Episodes: 6 | Win count: 70 | Win rate: 0.594 | time: 167.3 seconds\n",
      "Epoch: 190/1499 | Loss: 0.0009 | Episodes: 144 | Win count: 70 | Win rate: 0.562 | time: 168.0 seconds\n",
      "Epoch: 191/1499 | Loss: 0.0010 | Episodes: 7 | Win count: 71 | Win rate: 0.594 | time: 168.8 seconds\n",
      "Epoch: 192/1499 | Loss: 0.0009 | Episodes: 33 | Win count: 72 | Win rate: 0.625 | time: 169.5 seconds\n",
      "Epoch: 193/1499 | Loss: 0.0013 | Episodes: 140 | Win count: 72 | Win rate: 0.625 | time: 170.1 seconds\n",
      "Epoch: 194/1499 | Loss: 0.0012 | Episodes: 139 | Win count: 72 | Win rate: 0.594 | time: 171.0 seconds\n",
      "Epoch: 195/1499 | Loss: 0.0010 | Episodes: 5 | Win count: 73 | Win rate: 0.594 | time: 171.8 seconds\n",
      "Epoch: 196/1499 | Loss: 0.0011 | Episodes: 44 | Win count: 74 | Win rate: 0.594 | time: 172.5 seconds\n",
      "Epoch: 197/1499 | Loss: 0.0007 | Episodes: 134 | Win count: 74 | Win rate: 0.562 | time: 173.4 seconds\n",
      "Epoch: 198/1499 | Loss: 0.0011 | Episodes: 22 | Win count: 75 | Win rate: 0.562 | time: 174.2 seconds\n",
      "Epoch: 199/1499 | Loss: 0.0012 | Episodes: 22 | Win count: 76 | Win rate: 0.562 | time: 174.8 seconds\n",
      "Epoch: 200/1499 | Loss: 0.0008 | Episodes: 135 | Win count: 76 | Win rate: 0.562 | time: 175.7 seconds\n",
      "Epoch: 201/1499 | Loss: 0.0010 | Episodes: 137 | Win count: 76 | Win rate: 0.531 | time: 177.1 seconds\n",
      "Epoch: 202/1499 | Loss: 0.0009 | Episodes: 1 | Win count: 77 | Win rate: 0.531 | time: 177.8 seconds\n",
      "Epoch: 203/1499 | Loss: 0.0016 | Episodes: 147 | Win count: 78 | Win rate: 0.562 | time: 178.9 seconds\n",
      "Epoch: 204/1499 | Loss: 0.0013 | Episodes: 7 | Win count: 79 | Win rate: 0.594 | time: 179.6 seconds\n",
      "Epoch: 205/1499 | Loss: 0.0014 | Episodes: 136 | Win count: 79 | Win rate: 0.594 | time: 180.3 seconds\n",
      "Epoch: 206/1499 | Loss: 0.0014 | Episodes: 14 | Win count: 80 | Win rate: 0.594 | time: 181.2 seconds\n",
      "Epoch: 207/1499 | Loss: 0.0008 | Episodes: 137 | Win count: 80 | Win rate: 0.594 | time: 182.1 seconds\n",
      "Epoch: 208/1499 | Loss: 0.0012 | Episodes: 138 | Win count: 80 | Win rate: 0.594 | time: 183.0 seconds\n",
      "Epoch: 209/1499 | Loss: 0.0010 | Episodes: 3 | Win count: 81 | Win rate: 0.594 | time: 183.6 seconds\n",
      "Epoch: 210/1499 | Loss: 0.0019 | Episodes: 142 | Win count: 81 | Win rate: 0.594 | time: 184.5 seconds\n",
      "Epoch: 211/1499 | Loss: 0.0013 | Episodes: 1 | Win count: 82 | Win rate: 0.625 | time: 185.3 seconds\n",
      "Epoch: 212/1499 | Loss: 0.0006 | Episodes: 29 | Win count: 83 | Win rate: 0.625 | time: 186.1 seconds\n",
      "Epoch: 213/1499 | Loss: 0.0014 | Episodes: 83 | Win count: 84 | Win rate: 0.625 | time: 187.0 seconds\n",
      "Epoch: 214/1499 | Loss: 0.0010 | Episodes: 6 | Win count: 85 | Win rate: 0.656 | time: 188.0 seconds\n",
      "Epoch: 215/1499 | Loss: 0.0008 | Episodes: 138 | Win count: 85 | Win rate: 0.656 | time: 189.0 seconds\n",
      "Epoch: 216/1499 | Loss: 0.0005 | Episodes: 137 | Win count: 85 | Win rate: 0.625 | time: 189.9 seconds\n",
      "Epoch: 217/1499 | Loss: 0.0010 | Episodes: 25 | Win count: 86 | Win rate: 0.625 | time: 190.8 seconds\n",
      "Epoch: 218/1499 | Loss: 0.0006 | Episodes: 137 | Win count: 86 | Win rate: 0.594 | time: 191.8 seconds\n",
      "Epoch: 219/1499 | Loss: 0.0006 | Episodes: 1 | Win count: 87 | Win rate: 0.594 | time: 192.5 seconds\n",
      "Epoch: 220/1499 | Loss: 0.0009 | Episodes: 16 | Win count: 88 | Win rate: 0.594 | time: 193.4 seconds\n",
      "Epoch: 221/1499 | Loss: 0.0012 | Episodes: 140 | Win count: 88 | Win rate: 0.562 | time: 194.3 seconds\n",
      "Epoch: 222/1499 | Loss: 0.0008 | Episodes: 3 | Win count: 89 | Win rate: 0.594 | time: 195.4 seconds\n",
      "Epoch: 223/1499 | Loss: 0.0008 | Episodes: 140 | Win count: 89 | Win rate: 0.562 | time: 196.6 seconds\n",
      "Epoch: 224/1499 | Loss: 0.0007 | Episodes: 61 | Win count: 90 | Win rate: 0.562 | time: 197.7 seconds\n",
      "Epoch: 225/1499 | Loss: 0.0013 | Episodes: 2 | Win count: 91 | Win rate: 0.594 | time: 198.6 seconds\n",
      "Epoch: 226/1499 | Loss: 0.0011 | Episodes: 11 | Win count: 92 | Win rate: 0.625 | time: 199.4 seconds\n",
      "Epoch: 227/1499 | Loss: 0.0011 | Episodes: 134 | Win count: 92 | Win rate: 0.594 | time: 200.5 seconds\n",
      "Epoch: 228/1499 | Loss: 0.0012 | Episodes: 133 | Win count: 93 | Win rate: 0.594 | time: 201.5 seconds\n",
      "Epoch: 229/1499 | Loss: 0.0008 | Episodes: 144 | Win count: 93 | Win rate: 0.594 | time: 202.4 seconds\n",
      "Epoch: 230/1499 | Loss: 0.0009 | Episodes: 7 | Win count: 94 | Win rate: 0.594 | time: 203.5 seconds\n",
      "Epoch: 231/1499 | Loss: 0.0011 | Episodes: 11 | Win count: 95 | Win rate: 0.594 | time: 204.4 seconds\n",
      "Epoch: 232/1499 | Loss: 0.0010 | Episodes: 152 | Win count: 95 | Win rate: 0.594 | time: 205.4 seconds\n",
      "Epoch: 233/1499 | Loss: 0.0006 | Episodes: 17 | Win count: 96 | Win rate: 0.625 | time: 206.1 seconds\n",
      "Epoch: 234/1499 | Loss: 0.0010 | Episodes: 14 | Win count: 97 | Win rate: 0.625 | time: 206.8 seconds\n",
      "Epoch: 235/1499 | Loss: 0.0012 | Episodes: 135 | Win count: 97 | Win rate: 0.594 | time: 207.6 seconds\n",
      "Epoch: 236/1499 | Loss: 0.0008 | Episodes: 136 | Win count: 97 | Win rate: 0.562 | time: 208.6 seconds\n",
      "Epoch: 237/1499 | Loss: 0.0012 | Episodes: 135 | Win count: 97 | Win rate: 0.562 | time: 209.3 seconds\n",
      "Epoch: 238/1499 | Loss: 0.0008 | Episodes: 154 | Win count: 98 | Win rate: 0.562 | time: 210.2 seconds\n",
      "Epoch: 239/1499 | Loss: 0.0010 | Episodes: 28 | Win count: 99 | Win rate: 0.594 | time: 211.1 seconds\n",
      "Epoch: 240/1499 | Loss: 0.0009 | Episodes: 15 | Win count: 100 | Win rate: 0.625 | time: 211.9 seconds\n",
      "Epoch: 241/1499 | Loss: 0.0011 | Episodes: 139 | Win count: 100 | Win rate: 0.594 | time: 212.8 seconds\n",
      "Epoch: 242/1499 | Loss: 0.0012 | Episodes: 83 | Win count: 101 | Win rate: 0.625 | time: 213.6 seconds\n",
      "Epoch: 243/1499 | Loss: 0.0010 | Episodes: 17 | Win count: 102 | Win rate: 0.625 | time: 214.4 seconds\n"
     ]
    },
    {
     "name": "stdout",
     "output_type": "stream",
     "text": [
      "Epoch: 244/1499 | Loss: 0.0009 | Episodes: 1 | Win count: 103 | Win rate: 0.625 | time: 215.2 seconds\n",
      "Epoch: 245/1499 | Loss: 0.0006 | Episodes: 142 | Win count: 103 | Win rate: 0.594 | time: 216.1 seconds\n",
      "Epoch: 246/1499 | Loss: 0.0009 | Episodes: 16 | Win count: 104 | Win rate: 0.594 | time: 216.7 seconds\n",
      "Epoch: 247/1499 | Loss: 0.0007 | Episodes: 144 | Win count: 104 | Win rate: 0.594 | time: 217.7 seconds\n",
      "Epoch: 248/1499 | Loss: 0.0007 | Episodes: 144 | Win count: 105 | Win rate: 0.625 | time: 218.6 seconds\n",
      "Epoch: 249/1499 | Loss: 0.0008 | Episodes: 139 | Win count: 105 | Win rate: 0.594 | time: 219.3 seconds\n",
      "Epoch: 250/1499 | Loss: 0.0010 | Episodes: 2 | Win count: 106 | Win rate: 0.625 | time: 220.1 seconds\n",
      "Epoch: 251/1499 | Loss: 0.0007 | Episodes: 7 | Win count: 107 | Win rate: 0.625 | time: 220.7 seconds\n",
      "Epoch: 252/1499 | Loss: 0.0012 | Episodes: 1 | Win count: 108 | Win rate: 0.625 | time: 221.5 seconds\n",
      "Epoch: 253/1499 | Loss: 0.0013 | Episodes: 138 | Win count: 108 | Win rate: 0.625 | time: 222.2 seconds\n",
      "Epoch: 254/1499 | Loss: 0.0013 | Episodes: 133 | Win count: 108 | Win rate: 0.594 | time: 222.9 seconds\n",
      "Epoch: 255/1499 | Loss: 0.0007 | Episodes: 4 | Win count: 109 | Win rate: 0.625 | time: 223.5 seconds\n",
      "Epoch: 256/1499 | Loss: 0.0009 | Episodes: 7 | Win count: 110 | Win rate: 0.625 | time: 224.1 seconds\n",
      "Epoch: 257/1499 | Loss: 0.0009 | Episodes: 5 | Win count: 111 | Win rate: 0.625 | time: 224.9 seconds\n",
      "Epoch: 258/1499 | Loss: 0.0009 | Episodes: 9 | Win count: 112 | Win rate: 0.625 | time: 225.5 seconds\n",
      "Epoch: 259/1499 | Loss: 0.0006 | Episodes: 139 | Win count: 112 | Win rate: 0.625 | time: 226.3 seconds\n",
      "Epoch: 260/1499 | Loss: 0.0008 | Episodes: 139 | Win count: 112 | Win rate: 0.594 | time: 227.0 seconds\n",
      "Epoch: 261/1499 | Loss: 0.0013 | Episodes: 10 | Win count: 113 | Win rate: 0.625 | time: 227.6 seconds\n",
      "Epoch: 262/1499 | Loss: 0.0012 | Episodes: 6 | Win count: 114 | Win rate: 0.625 | time: 228.2 seconds\n",
      "Epoch: 263/1499 | Loss: 0.0011 | Episodes: 11 | Win count: 115 | Win rate: 0.625 | time: 228.7 seconds\n",
      "Epoch: 264/1499 | Loss: 0.0008 | Episodes: 18 | Win count: 116 | Win rate: 0.656 | time: 229.3 seconds\n",
      "Epoch: 265/1499 | Loss: 0.0010 | Episodes: 18 | Win count: 117 | Win rate: 0.656 | time: 229.9 seconds\n",
      "Epoch: 266/1499 | Loss: 0.0009 | Episodes: 7 | Win count: 118 | Win rate: 0.656 | time: 230.6 seconds\n",
      "Epoch: 267/1499 | Loss: 0.0009 | Episodes: 45 | Win count: 119 | Win rate: 0.688 | time: 231.2 seconds\n",
      "Epoch: 268/1499 | Loss: 0.0009 | Episodes: 151 | Win count: 119 | Win rate: 0.688 | time: 231.9 seconds\n",
      "Epoch: 269/1499 | Loss: 0.0010 | Episodes: 8 | Win count: 120 | Win rate: 0.719 | time: 232.5 seconds\n",
      "Epoch: 270/1499 | Loss: 0.0008 | Episodes: 1 | Win count: 121 | Win rate: 0.719 | time: 233.0 seconds\n",
      "Epoch: 271/1499 | Loss: 0.0011 | Episodes: 2 | Win count: 122 | Win rate: 0.719 | time: 233.6 seconds\n",
      "Epoch: 272/1499 | Loss: 0.0013 | Episodes: 4 | Win count: 123 | Win rate: 0.719 | time: 234.4 seconds\n",
      "Epoch: 273/1499 | Loss: 0.0010 | Episodes: 27 | Win count: 124 | Win rate: 0.750 | time: 235.1 seconds\n",
      "Epoch: 274/1499 | Loss: 0.0011 | Episodes: 80 | Win count: 125 | Win rate: 0.750 | time: 235.7 seconds\n",
      "Epoch: 275/1499 | Loss: 0.0013 | Episodes: 139 | Win count: 125 | Win rate: 0.719 | time: 236.4 seconds\n",
      "Epoch: 276/1499 | Loss: 0.0006 | Episodes: 133 | Win count: 125 | Win rate: 0.688 | time: 237.1 seconds\n",
      "Epoch: 277/1499 | Loss: 0.0010 | Episodes: 27 | Win count: 126 | Win rate: 0.719 | time: 237.9 seconds\n",
      "Epoch: 278/1499 | Loss: 0.0007 | Episodes: 36 | Win count: 127 | Win rate: 0.719 | time: 238.6 seconds\n",
      "Epoch: 279/1499 | Loss: 0.0010 | Episodes: 143 | Win count: 127 | Win rate: 0.719 | time: 239.3 seconds\n",
      "Epoch: 280/1499 | Loss: 0.0011 | Episodes: 10 | Win count: 128 | Win rate: 0.719 | time: 240.0 seconds\n",
      "Epoch: 281/1499 | Loss: 0.0009 | Episodes: 8 | Win count: 129 | Win rate: 0.750 | time: 240.7 seconds\n",
      "Epoch: 282/1499 | Loss: 0.0009 | Episodes: 13 | Win count: 130 | Win rate: 0.750 | time: 241.2 seconds\n",
      "Epoch: 283/1499 | Loss: 0.0011 | Episodes: 21 | Win count: 131 | Win rate: 0.750 | time: 241.7 seconds\n",
      "Epoch: 284/1499 | Loss: 0.0012 | Episodes: 9 | Win count: 132 | Win rate: 0.750 | time: 242.3 seconds\n",
      "Epoch: 285/1499 | Loss: 0.0009 | Episodes: 24 | Win count: 133 | Win rate: 0.781 | time: 243.0 seconds\n",
      "Epoch: 286/1499 | Loss: 0.0010 | Episodes: 8 | Win count: 134 | Win rate: 0.812 | time: 243.6 seconds\n",
      "Epoch: 287/1499 | Loss: 0.0007 | Episodes: 132 | Win count: 134 | Win rate: 0.781 | time: 244.2 seconds\n",
      "Epoch: 288/1499 | Loss: 0.0009 | Episodes: 14 | Win count: 135 | Win rate: 0.781 | time: 244.8 seconds\n",
      "Epoch: 289/1499 | Loss: 0.0007 | Episodes: 7 | Win count: 136 | Win rate: 0.781 | time: 245.4 seconds\n",
      "Epoch: 290/1499 | Loss: 0.0011 | Episodes: 2 | Win count: 137 | Win rate: 0.781 | time: 245.8 seconds\n",
      "Epoch: 291/1499 | Loss: 0.0008 | Episodes: 138 | Win count: 137 | Win rate: 0.781 | time: 246.6 seconds\n",
      "Epoch: 292/1499 | Loss: 0.0009 | Episodes: 10 | Win count: 138 | Win rate: 0.812 | time: 247.1 seconds\n",
      "Epoch: 293/1499 | Loss: 0.0009 | Episodes: 13 | Win count: 139 | Win rate: 0.812 | time: 247.6 seconds\n",
      "Epoch: 294/1499 | Loss: 0.0008 | Episodes: 9 | Win count: 140 | Win rate: 0.812 | time: 248.1 seconds\n",
      "Epoch: 295/1499 | Loss: 0.0006 | Episodes: 109 | Win count: 141 | Win rate: 0.812 | time: 248.8 seconds\n",
      "Epoch: 296/1499 | Loss: 0.0012 | Episodes: 141 | Win count: 141 | Win rate: 0.781 | time: 249.7 seconds\n",
      "Epoch: 297/1499 | Loss: 0.0007 | Episodes: 135 | Win count: 141 | Win rate: 0.750 | time: 250.7 seconds\n",
      "Epoch: 298/1499 | Loss: 0.0008 | Episodes: 45 | Win count: 142 | Win rate: 0.750 | time: 251.4 seconds\n",
      "Epoch: 299/1499 | Loss: 0.0013 | Episodes: 1 | Win count: 143 | Win rate: 0.750 | time: 252.1 seconds\n",
      "Epoch: 300/1499 | Loss: 0.0008 | Episodes: 132 | Win count: 143 | Win rate: 0.750 | time: 252.9 seconds\n",
      "Epoch: 301/1499 | Loss: 0.0008 | Episodes: 135 | Win count: 143 | Win rate: 0.719 | time: 253.6 seconds\n",
      "Epoch: 302/1499 | Loss: 0.0006 | Episodes: 30 | Win count: 144 | Win rate: 0.719 | time: 254.2 seconds\n",
      "Epoch: 303/1499 | Loss: 0.0008 | Episodes: 139 | Win count: 144 | Win rate: 0.688 | time: 254.9 seconds\n",
      "Epoch: 304/1499 | Loss: 0.0009 | Episodes: 19 | Win count: 145 | Win rate: 0.688 | time: 255.8 seconds\n",
      "Epoch: 305/1499 | Loss: 0.0008 | Episodes: 15 | Win count: 146 | Win rate: 0.688 | time: 256.4 seconds\n",
      "Epoch: 306/1499 | Loss: 0.0009 | Episodes: 136 | Win count: 146 | Win rate: 0.656 | time: 257.4 seconds\n",
      "Epoch: 307/1499 | Loss: 0.0006 | Episodes: 18 | Win count: 147 | Win rate: 0.688 | time: 258.1 seconds\n",
      "Epoch: 308/1499 | Loss: 0.0008 | Episodes: 143 | Win count: 147 | Win rate: 0.688 | time: 258.9 seconds\n",
      "Epoch: 309/1499 | Loss: 0.0007 | Episodes: 12 | Win count: 148 | Win rate: 0.688 | time: 259.6 seconds\n",
      "Epoch: 310/1499 | Loss: 0.0007 | Episodes: 137 | Win count: 148 | Win rate: 0.656 | time: 260.4 seconds\n",
      "Epoch: 311/1499 | Loss: 0.0007 | Episodes: 8 | Win count: 149 | Win rate: 0.688 | time: 261.1 seconds\n",
      "Epoch: 312/1499 | Loss: 0.0006 | Episodes: 134 | Win count: 149 | Win rate: 0.656 | time: 262.0 seconds\n",
      "Epoch: 313/1499 | Loss: 0.0008 | Episodes: 139 | Win count: 149 | Win rate: 0.625 | time: 262.8 seconds\n",
      "Epoch: 314/1499 | Loss: 0.0008 | Episodes: 139 | Win count: 149 | Win rate: 0.594 | time: 263.5 seconds\n",
      "Epoch: 315/1499 | Loss: 0.0007 | Episodes: 36 | Win count: 150 | Win rate: 0.594 | time: 264.2 seconds\n",
      "Epoch: 316/1499 | Loss: 0.0010 | Episodes: 135 | Win count: 150 | Win rate: 0.562 | time: 264.9 seconds\n",
      "Epoch: 317/1499 | Loss: 0.0009 | Episodes: 30 | Win count: 151 | Win rate: 0.562 | time: 265.5 seconds\n",
      "Epoch: 318/1499 | Loss: 0.0006 | Episodes: 11 | Win count: 152 | Win rate: 0.562 | time: 266.0 seconds\n",
      "Epoch: 319/1499 | Loss: 0.0012 | Episodes: 135 | Win count: 152 | Win rate: 0.562 | time: 266.8 seconds\n",
      "Epoch: 320/1499 | Loss: 0.0007 | Episodes: 16 | Win count: 153 | Win rate: 0.562 | time: 267.4 seconds\n",
      "Epoch: 321/1499 | Loss: 0.0008 | Episodes: 138 | Win count: 153 | Win rate: 0.531 | time: 268.2 seconds\n",
      "Epoch: 322/1499 | Loss: 0.0007 | Episodes: 5 | Win count: 154 | Win rate: 0.531 | time: 268.9 seconds\n",
      "Epoch: 323/1499 | Loss: 0.0008 | Episodes: 139 | Win count: 154 | Win rate: 0.531 | time: 269.7 seconds\n"
     ]
    },
    {
     "name": "stdout",
     "output_type": "stream",
     "text": [
      "Epoch: 324/1499 | Loss: 0.0008 | Episodes: 32 | Win count: 155 | Win rate: 0.531 | time: 270.5 seconds\n",
      "Epoch: 325/1499 | Loss: 0.0008 | Episodes: 37 | Win count: 156 | Win rate: 0.531 | time: 271.0 seconds\n",
      "Epoch: 326/1499 | Loss: 0.0006 | Episodes: 138 | Win count: 156 | Win rate: 0.500 | time: 271.6 seconds\n",
      "Epoch: 327/1499 | Loss: 0.0008 | Episodes: 11 | Win count: 157 | Win rate: 0.500 | time: 272.4 seconds\n",
      "Epoch: 328/1499 | Loss: 0.0006 | Episodes: 15 | Win count: 158 | Win rate: 0.531 | time: 273.1 seconds\n",
      "Epoch: 329/1499 | Loss: 0.0009 | Episodes: 129 | Win count: 158 | Win rate: 0.531 | time: 273.8 seconds\n",
      "Epoch: 330/1499 | Loss: 0.0004 | Episodes: 5 | Win count: 159 | Win rate: 0.531 | time: 274.6 seconds\n",
      "Epoch: 331/1499 | Loss: 0.0007 | Episodes: 127 | Win count: 160 | Win rate: 0.531 | time: 275.2 seconds\n",
      "Epoch: 332/1499 | Loss: 0.0011 | Episodes: 36 | Win count: 161 | Win rate: 0.562 | time: 275.8 seconds\n",
      "Epoch: 333/1499 | Loss: 0.0009 | Episodes: 140 | Win count: 161 | Win rate: 0.562 | time: 276.7 seconds\n",
      "Epoch: 334/1499 | Loss: 0.0005 | Episodes: 3 | Win count: 162 | Win rate: 0.562 | time: 277.4 seconds\n",
      "Epoch: 335/1499 | Loss: 0.0008 | Episodes: 77 | Win count: 163 | Win rate: 0.594 | time: 278.0 seconds\n",
      "Epoch: 336/1499 | Loss: 0.0010 | Episodes: 137 | Win count: 163 | Win rate: 0.562 | time: 278.8 seconds\n",
      "Epoch: 337/1499 | Loss: 0.0009 | Episodes: 1 | Win count: 164 | Win rate: 0.562 | time: 279.4 seconds\n",
      "Epoch: 338/1499 | Loss: 0.0006 | Episodes: 10 | Win count: 165 | Win rate: 0.594 | time: 280.3 seconds\n",
      "Epoch: 339/1499 | Loss: 0.0008 | Episodes: 130 | Win count: 165 | Win rate: 0.562 | time: 281.2 seconds\n",
      "Epoch: 340/1499 | Loss: 0.0006 | Episodes: 49 | Win count: 166 | Win rate: 0.594 | time: 281.9 seconds\n",
      "Epoch: 341/1499 | Loss: 0.0006 | Episodes: 114 | Win count: 167 | Win rate: 0.594 | time: 282.7 seconds\n",
      "Epoch: 342/1499 | Loss: 0.0009 | Episodes: 52 | Win count: 168 | Win rate: 0.625 | time: 283.4 seconds\n",
      "Epoch: 343/1499 | Loss: 0.0008 | Episodes: 80 | Win count: 169 | Win rate: 0.625 | time: 284.0 seconds\n",
      "Epoch: 344/1499 | Loss: 0.0009 | Episodes: 15 | Win count: 170 | Win rate: 0.656 | time: 284.6 seconds\n",
      "Epoch: 345/1499 | Loss: 0.0009 | Episodes: 11 | Win count: 171 | Win rate: 0.688 | time: 285.3 seconds\n",
      "Epoch: 346/1499 | Loss: 0.0013 | Episodes: 47 | Win count: 172 | Win rate: 0.719 | time: 286.1 seconds\n",
      "Epoch: 347/1499 | Loss: 0.0009 | Episodes: 132 | Win count: 172 | Win rate: 0.688 | time: 286.9 seconds\n",
      "Epoch: 348/1499 | Loss: 0.0011 | Episodes: 23 | Win count: 173 | Win rate: 0.719 | time: 287.6 seconds\n",
      "Epoch: 349/1499 | Loss: 0.0005 | Episodes: 133 | Win count: 173 | Win rate: 0.688 | time: 288.3 seconds\n",
      "Epoch: 350/1499 | Loss: 0.0007 | Episodes: 32 | Win count: 174 | Win rate: 0.688 | time: 289.0 seconds\n",
      "Epoch: 351/1499 | Loss: 0.0006 | Episodes: 20 | Win count: 175 | Win rate: 0.719 | time: 289.7 seconds\n",
      "Epoch: 352/1499 | Loss: 0.0006 | Episodes: 134 | Win count: 175 | Win rate: 0.688 | time: 290.4 seconds\n",
      "Epoch: 353/1499 | Loss: 0.0009 | Episodes: 72 | Win count: 176 | Win rate: 0.719 | time: 291.1 seconds\n",
      "Epoch: 354/1499 | Loss: 0.0009 | Episodes: 13 | Win count: 177 | Win rate: 0.719 | time: 291.9 seconds\n",
      "Epoch: 355/1499 | Loss: 0.0010 | Episodes: 9 | Win count: 178 | Win rate: 0.750 | time: 292.6 seconds\n",
      "Epoch: 356/1499 | Loss: 0.0009 | Episodes: 48 | Win count: 179 | Win rate: 0.750 | time: 293.4 seconds\n",
      "Epoch: 357/1499 | Loss: 0.0010 | Episodes: 10 | Win count: 180 | Win rate: 0.750 | time: 294.2 seconds\n",
      "Epoch: 358/1499 | Loss: 0.0010 | Episodes: 14 | Win count: 181 | Win rate: 0.781 | time: 294.9 seconds\n",
      "Epoch: 359/1499 | Loss: 0.0007 | Episodes: 61 | Win count: 182 | Win rate: 0.781 | time: 295.7 seconds\n",
      "Epoch: 360/1499 | Loss: 0.0008 | Episodes: 6 | Win count: 183 | Win rate: 0.781 | time: 296.5 seconds\n",
      "Epoch: 361/1499 | Loss: 0.0009 | Episodes: 9 | Win count: 184 | Win rate: 0.812 | time: 297.2 seconds\n",
      "Epoch: 362/1499 | Loss: 0.0009 | Episodes: 143 | Win count: 184 | Win rate: 0.781 | time: 297.9 seconds\n",
      "Epoch: 363/1499 | Loss: 0.0008 | Episodes: 81 | Win count: 185 | Win rate: 0.781 | time: 298.6 seconds\n",
      "Epoch: 364/1499 | Loss: 0.0005 | Episodes: 36 | Win count: 186 | Win rate: 0.781 | time: 299.2 seconds\n",
      "Epoch: 365/1499 | Loss: 0.0010 | Episodes: 140 | Win count: 186 | Win rate: 0.781 | time: 299.8 seconds\n",
      "Epoch: 366/1499 | Loss: 0.0011 | Episodes: 13 | Win count: 187 | Win rate: 0.781 | time: 300.5 seconds\n",
      "Epoch: 367/1499 | Loss: 0.0009 | Episodes: 13 | Win count: 188 | Win rate: 0.781 | time: 301.1 seconds\n",
      "Epoch: 368/1499 | Loss: 0.0008 | Episodes: 147 | Win count: 188 | Win rate: 0.781 | time: 301.9 seconds\n",
      "Epoch: 369/1499 | Loss: 0.0009 | Episodes: 89 | Win count: 189 | Win rate: 0.781 | time: 302.5 seconds\n",
      "Epoch: 370/1499 | Loss: 0.0009 | Episodes: 49 | Win count: 190 | Win rate: 0.781 | time: 303.2 seconds\n",
      "Epoch: 371/1499 | Loss: 0.0008 | Episodes: 40 | Win count: 191 | Win rate: 0.812 | time: 303.8 seconds\n",
      "Epoch: 372/1499 | Loss: 0.0010 | Episodes: 26 | Win count: 192 | Win rate: 0.812 | time: 304.5 seconds\n",
      "Epoch: 373/1499 | Loss: 0.0012 | Episodes: 43 | Win count: 193 | Win rate: 0.812 | time: 305.2 seconds\n",
      "Epoch: 374/1499 | Loss: 0.0013 | Episodes: 5 | Win count: 194 | Win rate: 0.812 | time: 305.8 seconds\n",
      "Epoch: 375/1499 | Loss: 0.0010 | Episodes: 1 | Win count: 195 | Win rate: 0.812 | time: 306.3 seconds\n",
      "Epoch: 376/1499 | Loss: 0.0009 | Episodes: 7 | Win count: 196 | Win rate: 0.812 | time: 306.8 seconds\n",
      "Epoch: 377/1499 | Loss: 0.0008 | Episodes: 15 | Win count: 197 | Win rate: 0.812 | time: 307.3 seconds\n",
      "Epoch: 378/1499 | Loss: 0.0013 | Episodes: 131 | Win count: 197 | Win rate: 0.781 | time: 308.0 seconds\n",
      "Epoch: 379/1499 | Loss: 0.0007 | Episodes: 136 | Win count: 197 | Win rate: 0.781 | time: 308.6 seconds\n",
      "Epoch: 380/1499 | Loss: 0.0013 | Episodes: 30 | Win count: 198 | Win rate: 0.781 | time: 309.4 seconds\n",
      "Epoch: 381/1499 | Loss: 0.0009 | Episodes: 21 | Win count: 199 | Win rate: 0.812 | time: 310.0 seconds\n",
      "Epoch: 382/1499 | Loss: 0.0005 | Episodes: 13 | Win count: 200 | Win rate: 0.812 | time: 310.8 seconds\n",
      "Epoch: 383/1499 | Loss: 0.0010 | Episodes: 60 | Win count: 201 | Win rate: 0.812 | time: 311.4 seconds\n",
      "Epoch: 384/1499 | Loss: 0.0007 | Episodes: 9 | Win count: 202 | Win rate: 0.844 | time: 312.0 seconds\n",
      "Epoch: 385/1499 | Loss: 0.0015 | Episodes: 19 | Win count: 203 | Win rate: 0.844 | time: 312.7 seconds\n",
      "Epoch: 386/1499 | Loss: 0.0009 | Episodes: 4 | Win count: 204 | Win rate: 0.844 | time: 313.5 seconds\n",
      "Epoch: 387/1499 | Loss: 0.0006 | Episodes: 49 | Win count: 205 | Win rate: 0.844 | time: 314.2 seconds\n",
      "Epoch: 388/1499 | Loss: 0.0009 | Episodes: 4 | Win count: 206 | Win rate: 0.844 | time: 314.8 seconds\n",
      "Epoch: 389/1499 | Loss: 0.0009 | Episodes: 13 | Win count: 207 | Win rate: 0.844 | time: 315.4 seconds\n",
      "Epoch: 390/1499 | Loss: 0.0011 | Episodes: 24 | Win count: 208 | Win rate: 0.844 | time: 316.1 seconds\n",
      "Epoch: 391/1499 | Loss: 0.0014 | Episodes: 47 | Win count: 209 | Win rate: 0.844 | time: 316.8 seconds\n",
      "Epoch: 392/1499 | Loss: 0.0009 | Episodes: 28 | Win count: 210 | Win rate: 0.844 | time: 317.5 seconds\n",
      "Epoch: 393/1499 | Loss: 0.0009 | Episodes: 28 | Win count: 211 | Win rate: 0.844 | time: 318.2 seconds\n",
      "Epoch: 394/1499 | Loss: 0.0006 | Episodes: 28 | Win count: 212 | Win rate: 0.875 | time: 318.9 seconds\n",
      "Epoch: 395/1499 | Loss: 0.0007 | Episodes: 26 | Win count: 213 | Win rate: 0.875 | time: 319.5 seconds\n",
      "Epoch: 396/1499 | Loss: 0.0007 | Episodes: 24 | Win count: 214 | Win rate: 0.875 | time: 320.2 seconds\n",
      "Epoch: 397/1499 | Loss: 0.0009 | Episodes: 24 | Win count: 215 | Win rate: 0.906 | time: 320.8 seconds\n",
      "Epoch: 398/1499 | Loss: 0.0011 | Episodes: 41 | Win count: 216 | Win rate: 0.906 | time: 321.4 seconds\n",
      "Epoch: 399/1499 | Loss: 0.0008 | Episodes: 66 | Win count: 217 | Win rate: 0.906 | time: 322.1 seconds\n",
      "Epoch: 400/1499 | Loss: 0.0010 | Episodes: 64 | Win count: 218 | Win rate: 0.938 | time: 322.8 seconds\n",
      "Epoch: 401/1499 | Loss: 0.0013 | Episodes: 40 | Win count: 219 | Win rate: 0.938 | time: 323.4 seconds\n",
      "Epoch: 402/1499 | Loss: 0.0007 | Episodes: 19 | Win count: 220 | Win rate: 0.938 | time: 324.0 seconds\n",
      "Epoch: 403/1499 | Loss: 0.0011 | Episodes: 28 | Win count: 221 | Win rate: 0.938 | time: 324.6 seconds\n"
     ]
    },
    {
     "name": "stdout",
     "output_type": "stream",
     "text": [
      "Epoch: 404/1499 | Loss: 0.0011 | Episodes: 135 | Win count: 221 | Win rate: 0.906 | time: 325.5 seconds\n",
      "Epoch: 405/1499 | Loss: 0.0009 | Episodes: 105 | Win count: 222 | Win rate: 0.906 | time: 326.2 seconds\n",
      "Epoch: 406/1499 | Loss: 0.0012 | Episodes: 53 | Win count: 223 | Win rate: 0.906 | time: 327.0 seconds\n",
      "Epoch: 407/1499 | Loss: 0.0008 | Episodes: 39 | Win count: 224 | Win rate: 0.906 | time: 327.6 seconds\n",
      "Epoch: 408/1499 | Loss: 0.0009 | Episodes: 12 | Win count: 225 | Win rate: 0.906 | time: 328.2 seconds\n",
      "Epoch: 409/1499 | Loss: 0.0008 | Episodes: 38 | Win count: 226 | Win rate: 0.906 | time: 328.7 seconds\n",
      "Epoch: 410/1499 | Loss: 0.0007 | Episodes: 57 | Win count: 227 | Win rate: 0.938 | time: 329.3 seconds\n",
      "Epoch: 411/1499 | Loss: 0.0009 | Episodes: 20 | Win count: 228 | Win rate: 0.969 | time: 330.1 seconds\n",
      "Epoch: 412/1499 | Loss: 0.0008 | Episodes: 21 | Win count: 229 | Win rate: 0.969 | time: 330.8 seconds\n",
      "Epoch: 413/1499 | Loss: 0.0007 | Episodes: 12 | Win count: 230 | Win rate: 0.969 | time: 331.4 seconds\n",
      "Epoch: 414/1499 | Loss: 0.0008 | Episodes: 31 | Win count: 231 | Win rate: 0.969 | time: 332.0 seconds\n",
      "Epoch: 415/1499 | Loss: 0.0012 | Episodes: 20 | Win count: 232 | Win rate: 0.969 | time: 332.5 seconds\n",
      "Epoch: 416/1499 | Loss: 0.0010 | Episodes: 18 | Win count: 233 | Win rate: 0.969 | time: 333.2 seconds\n",
      "Epoch: 417/1499 | Loss: 0.0011 | Episodes: 11 | Win count: 234 | Win rate: 0.969 | time: 333.9 seconds\n",
      "Epoch: 418/1499 | Loss: 0.0008 | Episodes: 8 | Win count: 235 | Win rate: 0.969 | time: 334.5 seconds\n",
      "Epoch: 419/1499 | Loss: 0.0010 | Episodes: 36 | Win count: 236 | Win rate: 0.969 | time: 335.1 seconds\n",
      "Epoch: 420/1499 | Loss: 0.0009 | Episodes: 145 | Win count: 236 | Win rate: 0.938 | time: 335.7 seconds\n",
      "Epoch: 421/1499 | Loss: 0.0008 | Episodes: 71 | Win count: 237 | Win rate: 0.938 | time: 336.4 seconds\n",
      "Epoch: 422/1499 | Loss: 0.0009 | Episodes: 17 | Win count: 238 | Win rate: 0.938 | time: 336.9 seconds\n",
      "Epoch: 423/1499 | Loss: 0.0007 | Episodes: 1 | Win count: 239 | Win rate: 0.938 | time: 337.3 seconds\n",
      "Epoch: 424/1499 | Loss: 0.0009 | Episodes: 6 | Win count: 240 | Win rate: 0.938 | time: 337.8 seconds\n",
      "Epoch: 425/1499 | Loss: 0.0008 | Episodes: 37 | Win count: 241 | Win rate: 0.938 | time: 338.4 seconds\n",
      "Epoch: 426/1499 | Loss: 0.0015 | Episodes: 25 | Win count: 242 | Win rate: 0.938 | time: 339.1 seconds\n",
      "Epoch: 427/1499 | Loss: 0.0009 | Episodes: 22 | Win count: 243 | Win rate: 0.938 | time: 339.8 seconds\n",
      "Epoch: 428/1499 | Loss: 0.0007 | Episodes: 33 | Win count: 244 | Win rate: 0.938 | time: 340.6 seconds\n",
      "Epoch: 429/1499 | Loss: 0.0009 | Episodes: 3 | Win count: 245 | Win rate: 0.938 | time: 341.1 seconds\n",
      "Epoch: 430/1499 | Loss: 0.0006 | Episodes: 12 | Win count: 246 | Win rate: 0.938 | time: 341.8 seconds\n",
      "Epoch: 431/1499 | Loss: 0.0006 | Episodes: 31 | Win count: 247 | Win rate: 0.938 | time: 342.7 seconds\n",
      "Epoch: 432/1499 | Loss: 0.0008 | Episodes: 53 | Win count: 248 | Win rate: 0.938 | time: 343.5 seconds\n",
      "Epoch: 433/1499 | Loss: 0.0007 | Episodes: 10 | Win count: 249 | Win rate: 0.938 | time: 344.5 seconds\n",
      "Epoch: 434/1499 | Loss: 0.0009 | Episodes: 11 | Win count: 250 | Win rate: 0.938 | time: 345.5 seconds\n",
      "Epoch: 435/1499 | Loss: 0.0008 | Episodes: 17 | Win count: 251 | Win rate: 0.938 | time: 346.4 seconds\n",
      "Epoch: 436/1499 | Loss: 0.0011 | Episodes: 13 | Win count: 252 | Win rate: 0.969 | time: 347.1 seconds\n",
      "Epoch: 437/1499 | Loss: 0.0010 | Episodes: 30 | Win count: 253 | Win rate: 0.969 | time: 347.9 seconds\n",
      "Epoch: 438/1499 | Loss: 0.0009 | Episodes: 2 | Win count: 254 | Win rate: 0.969 | time: 348.6 seconds\n",
      "Epoch: 439/1499 | Loss: 0.0006 | Episodes: 21 | Win count: 255 | Win rate: 0.969 | time: 349.3 seconds\n",
      "Epoch: 440/1499 | Loss: 0.0009 | Episodes: 7 | Win count: 256 | Win rate: 0.969 | time: 349.9 seconds\n",
      "Epoch: 441/1499 | Loss: 0.0009 | Episodes: 24 | Win count: 257 | Win rate: 0.969 | time: 350.7 seconds\n",
      "Epoch: 442/1499 | Loss: 0.0009 | Episodes: 13 | Win count: 258 | Win rate: 0.969 | time: 351.5 seconds\n",
      "Epoch: 443/1499 | Loss: 0.0010 | Episodes: 56 | Win count: 259 | Win rate: 0.969 | time: 352.3 seconds\n",
      "Epoch: 444/1499 | Loss: 0.0008 | Episodes: 7 | Win count: 260 | Win rate: 0.969 | time: 352.9 seconds\n",
      "Epoch: 445/1499 | Loss: 0.0006 | Episodes: 29 | Win count: 261 | Win rate: 0.969 | time: 353.8 seconds\n",
      "Epoch: 446/1499 | Loss: 0.0008 | Episodes: 7 | Win count: 262 | Win rate: 0.969 | time: 354.7 seconds\n",
      "Epoch: 447/1499 | Loss: 0.0011 | Episodes: 23 | Win count: 263 | Win rate: 0.969 | time: 355.4 seconds\n",
      "Epoch: 448/1499 | Loss: 0.0008 | Episodes: 31 | Win count: 264 | Win rate: 0.969 | time: 356.2 seconds\n",
      "Epoch: 449/1499 | Loss: 0.0013 | Episodes: 30 | Win count: 265 | Win rate: 0.969 | time: 357.0 seconds\n",
      "Epoch: 450/1499 | Loss: 0.0007 | Episodes: 23 | Win count: 266 | Win rate: 0.969 | time: 357.7 seconds\n",
      "Epoch: 451/1499 | Loss: 0.0006 | Episodes: 46 | Win count: 267 | Win rate: 0.969 | time: 358.6 seconds\n",
      "Epoch: 452/1499 | Loss: 0.0009 | Episodes: 31 | Win count: 268 | Win rate: 1.000 | time: 359.3 seconds\n",
      "Epoch: 453/1499 | Loss: 0.0007 | Episodes: 7 | Win count: 269 | Win rate: 1.000 | time: 360.1 seconds\n",
      "Epoch: 454/1499 | Loss: 0.0009 | Episodes: 9 | Win count: 270 | Win rate: 1.000 | time: 360.8 seconds\n",
      "Epoch: 455/1499 | Loss: 0.0008 | Episodes: 32 | Win count: 271 | Win rate: 1.000 | time: 361.7 seconds\n",
      "Epoch: 456/1499 | Loss: 0.0007 | Episodes: 31 | Win count: 272 | Win rate: 1.000 | time: 362.4 seconds\n",
      "Epoch: 457/1499 | Loss: 0.0010 | Episodes: 12 | Win count: 273 | Win rate: 1.000 | time: 363.3 seconds\n",
      "Epoch: 458/1499 | Loss: 0.0010 | Episodes: 10 | Win count: 274 | Win rate: 1.000 | time: 364.4 seconds\n",
      "Epoch: 459/1499 | Loss: 0.0009 | Episodes: 9 | Win count: 275 | Win rate: 1.000 | time: 365.2 seconds\n",
      "Epoch: 460/1499 | Loss: 0.0006 | Episodes: 25 | Win count: 276 | Win rate: 1.000 | time: 366.1 seconds\n",
      "Epoch: 461/1499 | Loss: 0.0008 | Episodes: 21 | Win count: 277 | Win rate: 1.000 | time: 366.9 seconds\n",
      "Epoch: 462/1499 | Loss: 0.0009 | Episodes: 16 | Win count: 278 | Win rate: 1.000 | time: 367.7 seconds\n",
      "Epoch: 463/1499 | Loss: 0.0010 | Episodes: 15 | Win count: 279 | Win rate: 1.000 | time: 368.4 seconds\n",
      "Epoch: 464/1499 | Loss: 0.0008 | Episodes: 28 | Win count: 280 | Win rate: 1.000 | time: 369.0 seconds\n",
      "Epoch: 465/1499 | Loss: 0.0007 | Episodes: 33 | Win count: 281 | Win rate: 1.000 | time: 370.1 seconds\n",
      "Epoch: 466/1499 | Loss: 0.0008 | Episodes: 30 | Win count: 282 | Win rate: 1.000 | time: 371.2 seconds\n",
      "Epoch: 467/1499 | Loss: 0.0010 | Episodes: 8 | Win count: 283 | Win rate: 1.000 | time: 371.9 seconds\n",
      "Epoch: 468/1499 | Loss: 0.0007 | Episodes: 103 | Win count: 284 | Win rate: 1.000 | time: 372.7 seconds\n",
      "Epoch: 469/1499 | Loss: 0.0006 | Episodes: 11 | Win count: 285 | Win rate: 1.000 | time: 373.5 seconds\n",
      "Epoch: 470/1499 | Loss: 0.0009 | Episodes: 66 | Win count: 286 | Win rate: 1.000 | time: 374.2 seconds\n",
      "Epoch: 471/1499 | Loss: 0.0009 | Episodes: 10 | Win count: 287 | Win rate: 1.000 | time: 374.9 seconds\n",
      "Epoch: 472/1499 | Loss: 0.0010 | Episodes: 29 | Win count: 288 | Win rate: 1.000 | time: 376.0 seconds\n",
      "Epoch: 473/1499 | Loss: 0.0004 | Episodes: 2 | Win count: 289 | Win rate: 1.000 | time: 376.6 seconds\n",
      "Epoch: 474/1499 | Loss: 0.0007 | Episodes: 28 | Win count: 290 | Win rate: 1.000 | time: 377.5 seconds\n",
      "Epoch: 475/1499 | Loss: 0.0009 | Episodes: 30 | Win count: 291 | Win rate: 1.000 | time: 378.3 seconds\n",
      "Epoch: 476/1499 | Loss: 0.0009 | Episodes: 15 | Win count: 292 | Win rate: 1.000 | time: 379.1 seconds\n",
      "Epoch: 477/1499 | Loss: 0.0008 | Episodes: 31 | Win count: 293 | Win rate: 1.000 | time: 379.9 seconds\n",
      "Epoch: 478/1499 | Loss: 0.0008 | Episodes: 32 | Win count: 294 | Win rate: 1.000 | time: 380.8 seconds\n",
      "Epoch: 479/1499 | Loss: 0.0006 | Episodes: 3 | Win count: 295 | Win rate: 1.000 | time: 381.6 seconds\n",
      "Epoch: 480/1499 | Loss: 0.0010 | Episodes: 30 | Win count: 296 | Win rate: 1.000 | time: 382.3 seconds\n",
      "Epoch: 481/1499 | Loss: 0.0010 | Episodes: 10 | Win count: 297 | Win rate: 1.000 | time: 383.1 seconds\n",
      "Epoch: 482/1499 | Loss: 0.0009 | Episodes: 7 | Win count: 298 | Win rate: 1.000 | time: 384.0 seconds\n",
      "Epoch: 483/1499 | Loss: 0.0009 | Episodes: 27 | Win count: 299 | Win rate: 1.000 | time: 384.7 seconds\n"
     ]
    },
    {
     "name": "stdout",
     "output_type": "stream",
     "text": [
      "Epoch: 484/1499 | Loss: 0.0007 | Episodes: 18 | Win count: 300 | Win rate: 1.000 | time: 385.6 seconds\n",
      "Epoch: 485/1499 | Loss: 0.0008 | Episodes: 25 | Win count: 301 | Win rate: 1.000 | time: 386.2 seconds\n",
      "Epoch: 486/1499 | Loss: 0.0010 | Episodes: 6 | Win count: 302 | Win rate: 1.000 | time: 387.1 seconds\n",
      "Epoch: 487/1499 | Loss: 0.0007 | Episodes: 5 | Win count: 303 | Win rate: 1.000 | time: 387.9 seconds\n",
      "Epoch: 488/1499 | Loss: 0.0006 | Episodes: 17 | Win count: 304 | Win rate: 1.000 | time: 388.9 seconds\n",
      "Epoch: 489/1499 | Loss: 0.0007 | Episodes: 21 | Win count: 305 | Win rate: 1.000 | time: 389.9 seconds\n",
      "Epoch: 490/1499 | Loss: 0.0006 | Episodes: 27 | Win count: 306 | Win rate: 1.000 | time: 390.7 seconds\n",
      "Epoch: 491/1499 | Loss: 0.0006 | Episodes: 31 | Win count: 307 | Win rate: 1.000 | time: 391.6 seconds\n",
      "Epoch: 492/1499 | Loss: 0.0009 | Episodes: 36 | Win count: 308 | Win rate: 1.000 | time: 392.3 seconds\n",
      "Epoch: 493/1499 | Loss: 0.0005 | Episodes: 23 | Win count: 309 | Win rate: 1.000 | time: 393.2 seconds\n",
      "Epoch: 494/1499 | Loss: 0.0004 | Episodes: 1 | Win count: 310 | Win rate: 1.000 | time: 394.1 seconds\n",
      "Epoch: 495/1499 | Loss: 0.0008 | Episodes: 6 | Win count: 311 | Win rate: 1.000 | time: 395.0 seconds\n",
      "Epoch: 496/1499 | Loss: 0.0007 | Episodes: 15 | Win count: 312 | Win rate: 1.000 | time: 395.7 seconds\n",
      "Epoch: 497/1499 | Loss: 0.0007 | Episodes: 9 | Win count: 313 | Win rate: 1.000 | time: 396.7 seconds\n",
      "Epoch: 498/1499 | Loss: 0.0008 | Episodes: 1 | Win count: 314 | Win rate: 1.000 | time: 397.5 seconds\n",
      "Epoch: 499/1499 | Loss: 0.0008 | Episodes: 19 | Win count: 315 | Win rate: 1.000 | time: 398.3 seconds\n",
      "Epoch: 500/1499 | Loss: 0.0006 | Episodes: 32 | Win count: 316 | Win rate: 1.000 | time: 399.3 seconds\n",
      "Epoch: 501/1499 | Loss: 0.0007 | Episodes: 27 | Win count: 317 | Win rate: 1.000 | time: 6.68 minutes\n",
      "Epoch: 502/1499 | Loss: 0.0005 | Episodes: 22 | Win count: 318 | Win rate: 1.000 | time: 6.69 minutes\n",
      "Epoch: 503/1499 | Loss: 0.0008 | Episodes: 26 | Win count: 319 | Win rate: 1.000 | time: 6.72 minutes\n",
      "Epoch: 504/1499 | Loss: 0.0007 | Episodes: 38 | Win count: 320 | Win rate: 1.000 | time: 6.74 minutes\n",
      "Epoch: 505/1499 | Loss: 0.0007 | Episodes: 29 | Win count: 321 | Win rate: 1.000 | time: 6.77 minutes\n",
      "Epoch: 506/1499 | Loss: 0.0009 | Episodes: 24 | Win count: 322 | Win rate: 1.000 | time: 6.78 minutes\n",
      "Epoch: 507/1499 | Loss: 0.0010 | Episodes: 10 | Win count: 323 | Win rate: 1.000 | time: 6.80 minutes\n",
      "Epoch: 508/1499 | Loss: 0.0005 | Episodes: 9 | Win count: 324 | Win rate: 1.000 | time: 6.82 minutes\n",
      "Epoch: 509/1499 | Loss: 0.0012 | Episodes: 19 | Win count: 325 | Win rate: 1.000 | time: 6.83 minutes\n",
      "Epoch: 510/1499 | Loss: 0.0008 | Episodes: 27 | Win count: 326 | Win rate: 1.000 | time: 6.85 minutes\n",
      "Epoch: 511/1499 | Loss: 0.0007 | Episodes: 30 | Win count: 327 | Win rate: 1.000 | time: 6.87 minutes\n",
      "Epoch: 512/1499 | Loss: 0.0009 | Episodes: 11 | Win count: 328 | Win rate: 1.000 | time: 6.88 minutes\n",
      "Epoch: 513/1499 | Loss: 0.0009 | Episodes: 19 | Win count: 329 | Win rate: 1.000 | time: 6.89 minutes\n",
      "Epoch: 514/1499 | Loss: 0.0006 | Episodes: 21 | Win count: 330 | Win rate: 1.000 | time: 6.91 minutes\n",
      "Epoch: 515/1499 | Loss: 0.0007 | Episodes: 28 | Win count: 331 | Win rate: 1.000 | time: 6.92 minutes\n",
      "Epoch: 516/1499 | Loss: 0.0009 | Episodes: 25 | Win count: 332 | Win rate: 1.000 | time: 6.94 minutes\n",
      "Epoch: 517/1499 | Loss: 0.0007 | Episodes: 28 | Win count: 333 | Win rate: 1.000 | time: 6.97 minutes\n",
      "Epoch: 518/1499 | Loss: 0.0010 | Episodes: 30 | Win count: 334 | Win rate: 1.000 | time: 6.98 minutes\n",
      "Reached 100% win rate at epoch: 518\n",
      "n_epoch: 518, max_mem: 2048, data: 128, time: 7.00 minutes\n"
     ]
    },
    {
     "data": {
      "text/plain": [
       "420.128302"
      ]
     },
     "execution_count": 11,
     "metadata": {},
     "output_type": "execute_result"
    }
   ],
   "source": [
    "model = build_model(maze)\n",
    "qtrain(model, maze, n_epoch=1500, max_memory=32*maze.size, data_size=128)"
   ]
  },
  {
   "attachments": {},
   "cell_type": "markdown",
   "metadata": {},
   "source": [
    "This cell will check to see if the model passes the completion check. Note: This could take several minutes."
   ]
  },
  {
   "cell_type": "code",
   "execution_count": 12,
   "metadata": {},
   "outputs": [
    {
     "data": {
      "text/plain": [
       "<matplotlib.image.AxesImage at 0x262cdfe0588>"
      ]
     },
     "execution_count": 12,
     "metadata": {},
     "output_type": "execute_result"
    },
    {
     "data": {
      "image/png": "[encoded data removed]",
      "text/plain": [
       "<Figure size 432x288 with 1 Axes>"
      ]
     },
     "metadata": {
      "needs_background": "light"
     },
     "output_type": "display_data"
    }
   ],
   "source": [
    "completion_check(model, qmaze)\n",
    "show(qmaze)"
   ]
  },
  {
   "attachments": {},
   "cell_type": "markdown",
   "metadata": {},
   "source": [
    "This cell will test your model for one game. It will start the pirate at the top-left corner and run play_game. The agent should find a path from the starting position to the target (treasure). The treasure is located in the bottom-right corner."
   ]
  },
  {
   "cell_type": "code",
   "execution_count": 15,
   "metadata": {},
   "outputs": [
    {
     "data": {
      "text/plain": [
       "<matplotlib.image.AxesImage at 0x262ce59cd08>"
      ]
     },
     "execution_count": 15,
     "metadata": {},
     "output_type": "execute_result"
    },
    {
     "data": {
      "image/png": "[encoded data removed]",
      "text/plain": [
       "<Figure size 432x288 with 1 Axes>"
      ]
     },
     "metadata": {
      "needs_background": "light"
     },
     "output_type": "display_data"
    }
   ],
   "source": [
    "pirate_start = (0, 0)\n",
    "play_game(model, qmaze, pirate_start)\n",
    "show(qmaze)"
   ]
  },
  {
   "attachments": {},
   "cell_type": "markdown",
   "metadata": {},
   "source": [
    "## Save and Submit Your Work\n",
    "After you have finished creating the code for your notebook, save your work. Make sure that your notebook contains your name in the filename (e.g. Doe_Jane_ProjectTwo.ipynb). This will help your instructor access and grade your work easily. Download a copy of your IPYNB file and submit it to Brightspace. Refer to the Jupyter Notebook in Apporto Tutorial if you need help with these tasks."
   ]
  }
 ],
 "metadata": {
  "kernelspec": {
   "display_name": "Python 3",
   "language": "python",
   "name": "python3"
  },
  "language_info": {
   "codemirror_mode": {
    "name": "ipython",
    "version": 3
   },
   "file_extension": ".py",
   "mimetype": "text/x-python",
   "name": "python",
   "nbconvert_exporter": "python",
   "pygments_lexer": "ipython3",
   "version": "3.7.4"
  }
 },
 "nbformat": 4,
 "nbformat_minor": 2
}
